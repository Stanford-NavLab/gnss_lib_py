{
 "cells": [
  {
   "cell_type": "markdown",
   "id": "2b7e92ce",
   "metadata": {},
   "source": [
    "This tutorial illustrates a few of the visualization capabilities from `utils/visualizations.py`."
   ]
  },
  {
   "cell_type": "markdown",
   "id": "952766c1",
   "metadata": {},
   "source": [
    "The `visualizations.py` file contains several plotting functionalities. We'll use some existing data to demonstrate their functionality.\n",
    "\n",
    "**Note:** In this case, the example data is filtered to be seconds apart, in the regular\n",
    "setting, such measurements would be removed. To prevent this from happening,\n",
    "we set remove_timing_outliers to False here. For the full dataset, set this flag to True"
   ]
  },
  {
   "cell_type": "code",
   "execution_count": null,
   "id": "cce0e69e",
   "metadata": {},
   "outputs": [],
   "source": [
    "from gnss_lib_py.parsers.android import AndroidDerived2021\n",
    "\n",
    "# load Android Google Challenge data\n",
    "!wget https://raw.githubusercontent.com/Stanford-NavLab/gnss_lib_py/main/data/unit_test/android_2021/Pixel4XL_derived.csv --quiet -O \"Pixel4XL_derived.csv\"\n",
    "derived_data = AndroidDerived2021(\"Pixel4XL_derived.csv\", remove_timing_outliers=False)"
   ]
  },
  {
   "cell_type": "markdown",
   "id": "3673683a",
   "metadata": {},
   "source": [
    "Since `NavData` is simply a data structure, you can still pull values from it and use standard Python plotting tools like `matplotlib`."
   ]
  },
  {
   "cell_type": "code",
   "execution_count": null,
   "id": "47b4753e",
   "metadata": {},
   "outputs": [],
   "source": [
    "import matplotlib.pyplot as plt\n",
    "plt.scatter(derived_data[\"gps_millis\"],derived_data[\"raw_pr_m\"])\n",
    "plt.xlabel(\"GPS Milliseconds\")\n",
    "plt.ylabel(\"Raw Pseudorange [m]\")\n",
    "plt.title(\"Matplotlib Plotting Example\")\n",
    "plt.show()"
   ]
  },
  {
   "cell_type": "markdown",
   "id": "76ee7e5e",
   "metadata": {},
   "source": [
    "# Visualizations"
   ]
  },
  {
   "cell_type": "markdown",
   "id": "45ce2307",
   "metadata": {},
   "source": [
    "`gnss_lib_py` extends `matplotlib` and `plotly` functionaltiy to allow quick visuialization of data rows through simple to use function calls."
   ]
  },
  {
   "cell_type": "markdown",
   "id": "0194ecce",
   "metadata": {},
   "source": [
    "## Plot Metric"
   ]
  },
  {
   "cell_type": "markdown",
   "id": "b8d0b63e",
   "metadata": {},
   "source": [
    "`plot_metric` is the most basic plotting function to plot a row. You need to input the `navdata` object and what row(s) you want to plot. For single rows, it will plot against a default index."
   ]
  },
  {
   "cell_type": "code",
   "execution_count": null,
   "id": "bda6ead3",
   "metadata": {},
   "outputs": [],
   "source": [
    "from gnss_lib_py.utils.visualizations import plot_metric\n",
    "\n",
    "glonass_data = derived_data.where(\"gnss_id\",\"glonass\")\n",
    "fig = plot_metric(glonass_data, \"raw_pr_m\", linestyle=\"None\")"
   ]
  },
  {
   "cell_type": "markdown",
   "id": "8b2b6b76",
   "metadata": {},
   "source": [
    "You can also use `plot_metric` to plot two rows against each other."
   ]
  },
  {
   "cell_type": "code",
   "execution_count": null,
   "id": "e170db19",
   "metadata": {},
   "outputs": [],
   "source": [
    "fig = plot_metric(glonass_data, \"iono_delay_m\", \"tropo_delay_m\", linestyle=\"none\")"
   ]
  },
  {
   "cell_type": "markdown",
   "id": "99310de6",
   "metadata": {},
   "source": [
    "For a more informative plot, you can also use the `groupby` flag to choose a row by which to group."
   ]
  },
  {
   "cell_type": "code",
   "execution_count": null,
   "id": "c48acd91",
   "metadata": {
    "scrolled": true
   },
   "outputs": [],
   "source": [
    "fig = plot_metric(glonass_data, \"iono_delay_m\", \"tropo_delay_m\", groupby=\"sv_id\")"
   ]
  },
  {
   "cell_type": "markdown",
   "id": "d30bb9be",
   "metadata": {},
   "source": [
    "`plot_metric` also allows you to pass in arbitrary arguments to the `matplotlib.pyplot.plot` function call as additional arguments like `linestyle=\"None\"` to remove lines, `marker=\"None\"` to remove the markers, etc."
   ]
  },
  {
   "cell_type": "code",
   "execution_count": null,
   "id": "9bd36b87",
   "metadata": {},
   "outputs": [],
   "source": [
    "fig = plot_metric(glonass_data, \"iono_delay_m\", \"tropo_delay_m\", groupby=\"sv_id\",\n",
    "                  linestyle=\"None\", markeredgecolor=\"g\", markersize=12, \n",
    "                  markeredgewidth=1.0)"
   ]
  },
  {
   "cell_type": "markdown",
   "id": "d7ab5bbd",
   "metadata": {},
   "source": [
    "By default, the visualization tools do not save to file, but you can save them to file by setting the `save` flag to `True`. Check the [reference documentation](file:///home/derek/gnss_lib_py/docs/build/html/reference/utils/visualizations.html#visualizations.plot_metric) for full explanations. Setting `save=True` will default to saving in the `Results` folder, but exact locations can be specified with `fname`. "
   ]
  },
  {
   "cell_type": "markdown",
   "id": "b1b12b15",
   "metadata": {},
   "source": [
    "## Plot Metric by Constellation"
   ]
  },
  {
   "cell_type": "markdown",
   "id": "e55e745e",
   "metadata": {},
   "source": [
    "`plot_metric_by_constellation` is similar to `plot_metric` but it breaks up the data into separate figures by constellation and signal type. You need values for rows called `sv_id` and `signal_type` to use this function. We can quickly see that the raw pseudorange value is much more informative when we can separate by constellation and satellite!"
   ]
  },
  {
   "cell_type": "code",
   "execution_count": null,
   "id": "fb7a7062",
   "metadata": {},
   "outputs": [],
   "source": [
    "from gnss_lib_py.utils.visualizations import plot_metric_by_constellation\n",
    "\n",
    "galileo_data = derived_data.where(\"gnss_id\",\"galileo\")\n",
    "fig = plot_metric_by_constellation(galileo_data, \"gps_millis\", \"raw_pr_m\")"
   ]
  },
  {
   "cell_type": "markdown",
   "id": "49ad4ff3",
   "metadata": {},
   "source": [
    "## Plot Skyplot"
   ]
  },
  {
   "cell_type": "markdown",
   "id": "f3c75306",
   "metadata": {},
   "source": [
    "The `plot_skyplot` function plots the satellite skyplot using the satellite positions and estimate receiver position."
   ]
  },
  {
   "cell_type": "code",
   "execution_count": null,
   "id": "56a5e4c8",
   "metadata": {},
   "outputs": [],
   "source": [
    "from gnss_lib_py.algorithms.snapshot import solve_wls\n",
    "from gnss_lib_py.utils.visualizations import plot_skyplot\n",
    "\n",
    "state_estimate = solve_wls(derived_data)\n",
    "\n",
    "fig = plot_skyplot(derived_data, state_estimate)"
   ]
  },
  {
   "cell_type": "markdown",
   "id": "6320838e",
   "metadata": {},
   "source": [
    "## Plot Map"
   ]
  },
  {
   "cell_type": "markdown",
   "id": "9f18ae5a",
   "metadata": {},
   "source": [
    "The `plot_map` function allows you to plot latitude and longitude rows of data on a map. The rows must match the standard naming style of `lat_*_deg` and `lon_*_deg` where `*` can be replaced with an arbitrary string."
   ]
  },
  {
   "cell_type": "code",
   "execution_count": null,
   "id": "7849bf4d",
   "metadata": {},
   "outputs": [],
   "source": [
    "from gnss_lib_py.utils.visualizations import plot_map\n",
    "\n",
    "fig = plot_map(state_estimate)\n",
    "fig.show()"
   ]
  }
 ],
 "metadata": {
  "kernelspec": {
   "display_name": "Python 3",
   "language": "python",
   "name": "python3"
  },
  "language_info": {
   "codemirror_mode": {
    "name": "ipython",
    "version": 3
   },
   "file_extension": ".py",
   "mimetype": "text/x-python",
   "name": "python",
   "nbconvert_exporter": "python",
   "pygments_lexer": "ipython3",
   "version": "3.8.9"
  }
 },
 "nbformat": 4,
 "nbformat_minor": 5
}
