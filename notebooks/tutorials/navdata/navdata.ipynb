{
 "cells": [
  {
   "cell_type": "markdown",
   "metadata": {},
   "source": [
    "This tutorial shows how to use the `NavData` class, including how to initialize\n",
    "instances and perform basic operations."
   ]
  },
  {
   "cell_type": "code",
   "execution_count": null,
   "metadata": {},
   "outputs": [],
   "source": [
    "import numpy as np\n",
    "import pandas as pd\n",
    "\n",
    "import gnss_lib_py as glp"
   ]
  },
  {
   "cell_type": "code",
   "execution_count": null,
   "metadata": {},
   "outputs": [],
   "source": [
    "# Get data path of example file\n",
    "glp.make_dir(\"../data\")\n",
    "!wget https://raw.githubusercontent.com/Stanford-NavLab/gnss_lib_py/main/notebooks/tutorials/data/myreceiver.csv --quiet -nc -O \"../data/myreceiver.csv\"\n",
    "data_path = \"../data/myreceiver.csv\""
   ]
  },
  {
   "cell_type": "markdown",
   "metadata": {},
   "source": [
    "# NavData"
   ]
  },
  {
   "cell_type": "markdown",
   "metadata": {},
   "source": [
    "## Initializing"
   ]
  },
  {
   "cell_type": "markdown",
   "metadata": {},
   "source": [
    "Create an empty NavData class instantiation"
   ]
  },
  {
   "cell_type": "code",
   "execution_count": null,
   "metadata": {},
   "outputs": [],
   "source": [
    "empty_nav_data = glp.NavData()\n",
    "print(empty_nav_data)"
   ]
  },
  {
   "cell_type": "markdown",
   "metadata": {},
   "source": [
    "Create a NavData class from a csv file"
   ]
  },
  {
   "cell_type": "code",
   "execution_count": null,
   "metadata": {},
   "outputs": [],
   "source": [
    "nav_data_csv = glp.NavData(csv_path=data_path)\n",
    "print(nav_data_csv)"
   ]
  },
  {
   "cell_type": "markdown",
   "metadata": {},
   "source": [
    "Create an empty NavData class from a pandas DataFrame"
   ]
  },
  {
   "cell_type": "code",
   "execution_count": null,
   "metadata": {},
   "outputs": [],
   "source": [
    "pd_df = pd.read_csv(data_path)\n",
    "nav_data_pd = glp.NavData(pandas_df=pd_df)\n",
    "print(nav_data_pd)"
   ]
  },
  {
   "cell_type": "markdown",
   "metadata": {},
   "source": [
    "Create an empty NavData class instantiation"
   ]
  },
  {
   "cell_type": "code",
   "execution_count": null,
   "metadata": {},
   "outputs": [],
   "source": [
    "np_array = np.eye(4)\n",
    "nav_data_np = glp.NavData(numpy_array=np_array)\n",
    "print(nav_data_np)"
   ]
  },
  {
   "cell_type": "markdown",
   "metadata": {},
   "source": [
    "## Accessing values"
   ]
  },
  {
   "cell_type": "markdown",
   "metadata": {},
   "source": [
    "In this example, the csv file that we have loaded has the following contents:\n",
    "\n",
    "| myTimestamp | mySatId | myPseudorange |\n",
    "| ----------- | ------- | ------------- |\n",
    "| 10          | G10     | 270000001     |\n",
    "| 10          | G14     | 270000007     |\n",
    "| 10          | G07     | 270000004     |\n",
    "| 10          | G03     | 270000005     |\n",
    "| 11          | G10     | 270000002     |\n",
    "| 11          | G14     | 270000008     |\n",
    "| 11          | G07     | 270000003     |\n",
    "| 11          | G03     | 270000004     |"
   ]
  },
  {
   "cell_type": "markdown",
   "metadata": {},
   "source": [
    "`NavData` stores the different types of measurements, like `myTimestamp`\n",
    "as rows.\n",
    "So, each row contains the variable at different times/measurements.\n",
    "In this case, the `myPseudorange` row contains values for different\n",
    "timestamps and satellite IDs"
   ]
  },
  {
   "cell_type": "markdown",
   "metadata": {},
   "source": [
    "Values in rows can be accessed by using the name of the row or the\n",
    "number of the row"
   ]
  },
  {
   "cell_type": "code",
   "execution_count": null,
   "metadata": {},
   "outputs": [],
   "source": [
    "nav_data_csv['myTimestamp']\n"
   ]
  },
  {
   "cell_type": "code",
   "execution_count": null,
   "metadata": {},
   "outputs": [],
   "source": [
    "nav_data_csv[0]"
   ]
  },
  {
   "cell_type": "markdown",
   "metadata": {},
   "source": [
    "By specifying a column number (or slice of columns) along with the row label/number, a sub part\n",
    "of the matrix can be accessed as well"
   ]
  },
  {
   "cell_type": "code",
   "execution_count": null,
   "metadata": {},
   "outputs": [],
   "source": [
    "nav_data_csv['myPseudorange', :3]"
   ]
  },
  {
   "cell_type": "markdown",
   "metadata": {},
   "source": [
    "To access multiple rows using labels, pass the labels as a list of strings or slice of numbers"
   ]
  },
  {
   "cell_type": "code",
   "execution_count": null,
   "metadata": {},
   "outputs": [],
   "source": [
    "nav_data_csv[['myTimestamp', 'myPseudorange']]"
   ]
  },
  {
   "cell_type": "markdown",
   "metadata": {},
   "source": [
    "However, to ensure compatability with accessing operations, you  cannot access string and numeric values jointly.\n",
    "This is to prevent unexpected behaviour that might result on performing mathematical operations with strings and numbers.\n",
    "\n",
    "If you attempt to access a combination of strings and numbers, the method will return an `AssertionError`"
   ]
  },
  {
   "cell_type": "code",
   "execution_count": null,
   "metadata": {},
   "outputs": [],
   "source": [
    "try:\n",
    "    nav_data_csv[0:2]\n",
    "except AssertionError as err:\n",
    "    print(err)"
   ]
  },
  {
   "cell_type": "markdown",
   "metadata": {},
   "source": [
    "## Setting values"
   ]
  },
  {
   "cell_type": "markdown",
   "metadata": {},
   "source": [
    "You can update values for existing rows by indexing those rows and assigning an array"
   ]
  },
  {
   "cell_type": "code",
   "execution_count": null,
   "metadata": {},
   "outputs": [],
   "source": [
    "nav_data_csv['myPseudorange'] = 10*np.arange(8)\n",
    "nav_data_csv['myPseudorange']"
   ]
  },
  {
   "cell_type": "markdown",
   "metadata": {},
   "source": [
    "You can also set individual values by accessing the specific rows and columns that you want to reassign"
   ]
  },
  {
   "cell_type": "code",
   "execution_count": null,
   "metadata": {},
   "outputs": [],
   "source": [
    "nav_data_csv['myPseudorange', 2] = 111\n",
    "nav_data_csv['myPseudorange']\n"
   ]
  },
  {
   "cell_type": "markdown",
   "metadata": {},
   "source": [
    "## Setting new row"
   ]
  },
  {
   "cell_type": "markdown",
   "metadata": {},
   "source": [
    "To set numeric values for a new row, access the row with the label name and assign the value to that row."
   ]
  },
  {
   "cell_type": "code",
   "execution_count": null,
   "metadata": {},
   "outputs": [],
   "source": [
    "nav_data_csv['new_row'] = np.arange(8)\n",
    "nav_data_csv['new_row']"
   ]
  },
  {
   "cell_type": "markdown",
   "metadata": {},
   "source": [
    "New string rows can also be created similarly.\n",
    "\n",
    "Note that while creating rows with string values, you must set the `dtype` of the row to `object`"
   ]
  },
  {
   "cell_type": "code",
   "execution_count": null,
   "metadata": {},
   "outputs": [],
   "source": [
    "nav_data_csv['new_string_row'] = np.array(['string1', 'string1', 'string1', 'string1',\n",
    "                                            'string2', 'string2', 'string2', 'string2'], dtype=object)\n",
    "nav_data_csv['new_string_row']"
   ]
  },
  {
   "cell_type": "markdown",
   "metadata": {},
   "source": [
    "## Find rows, shape and length"
   ]
  },
  {
   "cell_type": "markdown",
   "metadata": {},
   "source": [
    "You can see which rows are currently in `NavData` using `NavData.rows`.\n",
    "The number of columns can be viewed using `len(NavData)` and the shape of the array can be viewed using `NavData.shape`"
   ]
  },
  {
   "cell_type": "code",
   "execution_count": null,
   "metadata": {},
   "outputs": [],
   "source": [
    "nav_data_csv.rows"
   ]
  },
  {
   "cell_type": "code",
   "execution_count": null,
   "metadata": {},
   "outputs": [],
   "source": [
    "nav_data_csv.shape"
   ]
  },
  {
   "cell_type": "code",
   "execution_count": null,
   "metadata": {},
   "outputs": [],
   "source": [
    "len(nav_data_csv)"
   ]
  },
  {
   "cell_type": "code",
   "execution_count": null,
   "metadata": {},
   "outputs": [],
   "source": [
    "nav_data_csv.num_cols"
   ]
  },
  {
   "cell_type": "markdown",
   "metadata": {},
   "source": [
    "## Removing rows or columns"
   ]
  },
  {
   "cell_type": "markdown",
   "metadata": {},
   "source": [
    "To remove rows, use the `NavData.remove()` method, specifying the rows and columns you want to remove.\n"
   ]
  },
  {
   "cell_type": "code",
   "execution_count": null,
   "metadata": {},
   "outputs": [],
   "source": [
    "nav_data_removed = nav_data_csv.remove(rows=['new_row', 'new_string_row'])\n",
    "print(nav_data_removed.rows)\n",
    "print(nav_data_removed.shape)"
   ]
  },
  {
   "cell_type": "code",
   "execution_count": null,
   "metadata": {},
   "outputs": [],
   "source": [
    "nav_data_removed = nav_data_csv.remove(cols=[0, 1])\n",
    "print(nav_data_removed.shape)"
   ]
  },
  {
   "cell_type": "markdown",
   "metadata": {},
   "source": [
    "## Copy"
   ]
  },
  {
   "cell_type": "markdown",
   "metadata": {},
   "source": [
    "If you don't specify any rows or columns, the entire `NavData` will be copied"
   ]
  },
  {
   "cell_type": "code",
   "execution_count": null,
   "metadata": {},
   "outputs": [],
   "source": [
    "nav_data_np_copy = nav_data_np.copy()\n",
    "print('Original NavData array')\n",
    "print(nav_data_np[:, :])\n",
    "print('Copied NavData array')\n",
    "print(nav_data_np_copy[:, :])"
   ]
  },
  {
   "cell_type": "markdown",
   "metadata": {},
   "source": [
    "Specifying rows, columns or both copies specified rows and columns.\n",
    "\n",
    "Note that currently, rows and columns must be specified as lists."
   ]
  },
  {
   "cell_type": "code",
   "execution_count": null,
   "metadata": {},
   "outputs": [],
   "source": [
    "nav_data_np_copy = nav_data_np.copy(rows=[0,1], cols=list(range(4)))\n",
    "print('Original NavData array')\n",
    "print(nav_data_np[:, :])\n",
    "print('Copied NavData array')\n",
    "print(nav_data_np_copy[:, :])"
   ]
  },
  {
   "cell_type": "markdown",
   "metadata": {},
   "source": [
    "## Convert to `pd.DataFrame` and save to csv"
   ]
  },
  {
   "cell_type": "markdown",
   "metadata": {},
   "source": [
    "You can use the `NavData.to_csv()` method to save the data as a csv file and `NavData.pandas_df()` to get the equivalent `pd.DataFrame`"
   ]
  },
  {
   "cell_type": "code",
   "execution_count": null,
   "metadata": {},
   "outputs": [],
   "source": [
    "nav_data_pd.pandas_df()"
   ]
  },
  {
   "cell_type": "markdown",
   "metadata": {},
   "source": [
    "## Looping over columns"
   ]
  },
  {
   "cell_type": "markdown",
   "metadata": {},
   "source": [
    "You can loop over all columns using in-built looping functions. In this example, we terminate the loop after 3 runs for display clarity"
   ]
  },
  {
   "cell_type": "code",
   "execution_count": null,
   "metadata": {},
   "outputs": [],
   "source": [
    "for col_idx, nav_data_col in enumerate(nav_data_pd):\n",
    "    print('Current column number', col_idx)\n",
    "    print('Current column')\n",
    "    print(nav_data_col)\n",
    "    if col_idx >= 3:\n",
    "        break"
   ]
  }
 ],
 "metadata": {
  "kernelspec": {
   "display_name": "Python 3 (ipykernel)",
   "language": "python",
   "name": "python3"
  },
  "language_info": {
   "codemirror_mode": {
    "name": "ipython",
    "version": 3
   },
   "file_extension": ".py",
   "mimetype": "text/x-python",
   "name": "python",
   "nbconvert_exporter": "python",
   "pygments_lexer": "ipython3",
   "version": "3.8.9"
  },
  "vscode": {
   "interpreter": {
    "hash": "c7717b1dd2ec65abd747d44a25869d062db68d19263f8e701e26dddb0b153342"
   }
  }
 },
 "nbformat": 4,
 "nbformat_minor": 4
}
