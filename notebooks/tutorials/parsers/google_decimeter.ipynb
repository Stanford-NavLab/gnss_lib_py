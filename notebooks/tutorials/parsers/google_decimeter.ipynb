{
 "cells": [
  {
   "cell_type": "markdown",
   "id": "3a8febc1-db4b-4f02-9ac6-5d726b96996c",
   "metadata": {},
   "source": [
    "# Google Decimeter Challenge Datasets"
   ]
  },
  {
   "cell_type": "markdown",
   "id": "e8cfabd7",
   "metadata": {},
   "source": [
    "This tutorial explains details about to use parsers and functions made for the 2021, 2022, and 2023 Google Smartphone Decimeter Challege datasets."
   ]
  },
  {
   "cell_type": "markdown",
   "id": "d5632d85",
   "metadata": {},
   "source": [
    "Load `gnss_lib_py` into the Python workspace"
   ]
  },
  {
   "cell_type": "code",
   "execution_count": null,
   "id": "f7468fd3",
   "metadata": {},
   "outputs": [],
   "source": [
    "import gnss_lib_py as glp"
   ]
  },
  {
   "cell_type": "markdown",
   "id": "76ee7e5e",
   "metadata": {},
   "source": [
    "## 2023 Google Android Derived Dataset"
   ]
  },
  {
   "cell_type": "markdown",
   "id": "ceac98ce",
   "metadata": {},
   "source": [
    "This data comes from the 2023 Google Smartphone Decimeter Challenge and can be downloaded from [Kaggle](https://www.kaggle.com/competitions/smartphone-decimeter-2023)."
   ]
  },
  {
   "cell_type": "markdown",
   "id": "e2ec49c6",
   "metadata": {},
   "source": [
    "Loading the data into an instance of `NavData` is as easy as creating an instance of `AndroidDerived2023` with the relevant file path."
   ]
  },
  {
   "cell_type": "code",
   "execution_count": null,
   "id": "c335608f",
   "metadata": {},
   "outputs": [],
   "source": [
    "# download Android data file\n",
    "glp.make_dir(\"../data\")\n",
    "!wget https://raw.githubusercontent.com/Stanford-NavLab/gnss_lib_py/main/data/unit_test/google_decimeter_2023/2023-09-07-18-59-us-ca/pixel7pro/device_gnss.csv --quiet -nc -O \"../data/device_gnss.csv\"\n",
    "# load Android Google Challenge data\n",
    "derived_data = glp.AndroidDerived2023(\"../data/device_gnss.csv\")"
   ]
  },
  {
   "cell_type": "markdown",
   "id": "eb53fe00",
   "metadata": {},
   "source": [
    "We can verify that the data loaded correctly by printing the shape and rows of the imported data."
   ]
  },
  {
   "cell_type": "code",
   "execution_count": null,
   "id": "01b5d56a",
   "metadata": {},
   "outputs": [],
   "source": [
    "derived_data.shape"
   ]
  },
  {
   "cell_type": "code",
   "execution_count": null,
   "id": "cc2d26d9",
   "metadata": {},
   "outputs": [],
   "source": [
    "derived_data.rows"
   ]
  },
  {
   "cell_type": "markdown",
   "id": "076d5ea5",
   "metadata": {},
   "source": [
    "## 2023 Google Android Ground Truth\n",
    "We can similarly load in the ground truth data from the same 2023 Google Smartphone Decimeter Challenge."
   ]
  },
  {
   "cell_type": "code",
   "execution_count": null,
   "id": "21581d69",
   "metadata": {},
   "outputs": [],
   "source": [
    "# download Android data file\n",
    "glp.make_dir(\"../data\")\n",
    "!wget https://raw.githubusercontent.com/Stanford-NavLab/gnss_lib_py/main/data/unit_test/google_decimeter_2023/2023-09-07-18-59-us-ca/pixel7pro/ground_truth.csv --quiet -nc -O \"../data/ground_truth.csv\"\n",
    "# load Android Google Challenge ground truth data\n",
    "gt_data = glp.AndroidGroundTruth2023(\"../data/ground_truth.csv\")"
   ]
  },
  {
   "cell_type": "code",
   "execution_count": null,
   "id": "ef4a123a",
   "metadata": {},
   "outputs": [],
   "source": [
    "gt_data.shape"
   ]
  },
  {
   "cell_type": "code",
   "execution_count": null,
   "id": "9f327d87",
   "metadata": {},
   "outputs": [],
   "source": [
    "gt_data.rows"
   ]
  },
  {
   "cell_type": "markdown",
   "id": "c849214b",
   "metadata": {},
   "source": [
    "## 2023/2022 Google Decimeter Kaggle Challenge\n",
    "There are utility functions to prepare Kaggle submissions for the [2023 challenge](https://www.kaggle.com/competitions/smartphone-decimeter-2023) and [2022 Challenge](https://www.kaggle.com/c/smartphone-decimeter-2022)."
   ]
  },
  {
   "cell_type": "markdown",
   "id": "83ac7998",
   "metadata": {},
   "source": [
    "We offer a function to convert the provided Weighted Least Squares baseline solution into the standard `state_estimate` format found throughout `gnss_lib_py`. Simply pass in the derived data NavData object."
   ]
  },
  {
   "cell_type": "code",
   "execution_count": null,
   "id": "a990ec31",
   "metadata": {},
   "outputs": [],
   "source": [
    "state_estimate = glp.solve_kaggle_baseline(derived_data)\n",
    "\n",
    "print(state_estimate)"
   ]
  },
  {
   "cell_type": "markdown",
   "id": "f1504d5d",
   "metadata": {},
   "source": [
    "`prepare_kaggle_submission` can be used to convert the standard `state_estimate` format to a NavData object with the same rows and row names which the 2023 and 2022 Kaggle competitions expect. The `trip_id` is a combination of the trajectory trace name and phone name."
   ]
  },
  {
   "cell_type": "code",
   "execution_count": null,
   "id": "22f43b10",
   "metadata": {},
   "outputs": [],
   "source": [
    "solution = glp.prepare_kaggle_submission(state_estimate, trip_id = \"my_trace/my_phone\")\n",
    "\n",
    "print(solution)"
   ]
  },
  {
   "cell_type": "markdown",
   "id": "7e8879f2",
   "metadata": {},
   "source": [
    "`solve_kaggle_dataset` can be used to automatically iterate through all trace trajectory names and phone names, estimate the state using the provided solver, and concatenate all state estimates together for a single submission. The `solver` variable could use `solve_kaggle_baseline`, `solve_wls`, or `solve_gnss_ekf` for example.\n"
   ]
  },
  {
   "cell_type": "code",
   "execution_count": null,
   "id": "49659881",
   "metadata": {},
   "outputs": [],
   "source": [
    "# submission = glp.solve_kaggle_dataset(folder_path = \"/path/to/train/or/test/folder/\", \n",
    "#                                   solver = glp.solve_wls)\n",
    "\n",
    "# after the submission NavData object is created, save it to a csv with:\n",
    "# submission.to_csv(\"file_path.csv\")"
   ]
  },
  {
   "cell_type": "markdown",
   "id": "bbcd42da-3966-430c-bf7b-1fe133048ffc",
   "metadata": {},
   "source": [
    "## 2022 Google Android Derived Dataset"
   ]
  },
  {
   "cell_type": "markdown",
   "id": "0ac8bc0e-43f3-4038-922a-69a04bef40a9",
   "metadata": {},
   "source": [
    "This data comes from the 2022 Google Smartphone Decimeter Challenge and can be downloaded from [Kaggle](https://www.kaggle.com/c/smartphone-decimeter-2022)."
   ]
  },
  {
   "cell_type": "markdown",
   "id": "eba0d425-5628-4974-a310-fe25ab3762d7",
   "metadata": {},
   "source": [
    "Loading the data into an instance of `NavData` is as easy as creating an instance of `AndroidDerived2022` with the relevant file path."
   ]
  },
  {
   "cell_type": "code",
   "execution_count": null,
   "id": "325b2cc3-eed0-43b3-8894-1587651796d6",
   "metadata": {},
   "outputs": [],
   "source": [
    "# download Android data file\n",
    "glp.make_dir(\"../data\")\n",
    "!wget https://raw.githubusercontent.com/Stanford-NavLab/gnss_lib_py/main/data/unit_test/google_decimeter_2022/device_gnss.csv --quiet -nc -O \"../data/device_gnss.csv\"\n",
    "# load Android Google Challenge data\n",
    "derived_data = glp.AndroidDerived2022(\"../data/device_gnss.csv\")"
   ]
  },
  {
   "cell_type": "markdown",
   "id": "87c424b4-b1a3-49c1-834e-467953535006",
   "metadata": {},
   "source": [
    "We can verify that the data loaded correctly by printing the shape and rows of the imported data."
   ]
  },
  {
   "cell_type": "code",
   "execution_count": null,
   "id": "86d1f429-758e-4329-b79e-164f8bfe221d",
   "metadata": {},
   "outputs": [],
   "source": [
    "derived_data.shape"
   ]
  },
  {
   "cell_type": "code",
   "execution_count": null,
   "id": "1814049c-9c2c-4a0b-b924-1b688168f1b6",
   "metadata": {},
   "outputs": [],
   "source": [
    "derived_data.rows"
   ]
  },
  {
   "cell_type": "markdown",
   "id": "b9a17a27-3413-4e3d-bd88-fa931446ffc1",
   "metadata": {},
   "source": [
    "## 2022 Google Android Ground Truth\n",
    "We can similarly load in the ground truth data from the same 2022 Google Smartphone Decimeter Challenge."
   ]
  },
  {
   "cell_type": "code",
   "execution_count": null,
   "id": "42223d7f-c7ce-409b-8526-c7736b759965",
   "metadata": {},
   "outputs": [],
   "source": [
    "# download Android data file\n",
    "glp.make_dir(\"../data\")\n",
    "!wget https://raw.githubusercontent.com/Stanford-NavLab/gnss_lib_py/main/data/unit_test/google_decimeter_2022/ground_truth.csv --quiet -nc -O \"../data/ground_truth.csv\"\n",
    "# load Android Google Challenge ground truth data\n",
    "gt_data = glp.AndroidGroundTruth2022(\"../data/ground_truth.csv\")"
   ]
  },
  {
   "cell_type": "code",
   "execution_count": null,
   "id": "30548ab0-8706-48b0-ac68-69b7ce7d90f4",
   "metadata": {},
   "outputs": [],
   "source": [
    "gt_data.shape"
   ]
  },
  {
   "cell_type": "code",
   "execution_count": null,
   "id": "1951e173-c17e-4d2e-8a99-81c7c0723442",
   "metadata": {},
   "outputs": [],
   "source": [
    "gt_data.rows"
   ]
  },
  {
   "cell_type": "markdown",
   "id": "0f78bfdb",
   "metadata": {},
   "source": [
    "## 2021 Google Android Derived Dataset"
   ]
  },
  {
   "cell_type": "markdown",
   "id": "b43a523e",
   "metadata": {},
   "source": [
    "This data comes from the 2021 Google Smartphone Decimeter Challenge and can be downloaded from [Kaggle](https://www.kaggle.com/c/google-smartphone-decimeter-challenge)."
   ]
  },
  {
   "cell_type": "markdown",
   "id": "e12cecb0",
   "metadata": {},
   "source": [
    "Loading the data into an instance of `NavData` is as easy as creating an instance of `AndroidDerived2021` with the relevant file path."
   ]
  },
  {
   "cell_type": "code",
   "execution_count": null,
   "id": "6447cd99",
   "metadata": {},
   "outputs": [],
   "source": [
    "# download Android data file\n",
    "glp.make_dir(\"../data\")\n",
    "!wget https://raw.githubusercontent.com/Stanford-NavLab/gnss_lib_py/main/data/unit_test/google_decimeter_2021/Pixel4_derived.csv --quiet -nc -O \"../data/Pixel4_derived.csv\"\n",
    "# load Android Google Challenge data\n",
    "derived_data = glp.AndroidDerived2021(\"../data/Pixel4_derived.csv\")"
   ]
  },
  {
   "cell_type": "markdown",
   "id": "00bc1b39",
   "metadata": {},
   "source": [
    "We can verify that the data loaded correctly by printing the shape and rows of the imported data."
   ]
  },
  {
   "cell_type": "code",
   "execution_count": null,
   "id": "407270ad",
   "metadata": {},
   "outputs": [],
   "source": [
    "derived_data.shape"
   ]
  },
  {
   "cell_type": "code",
   "execution_count": null,
   "id": "2ac2fc75",
   "metadata": {},
   "outputs": [],
   "source": [
    "derived_data.rows"
   ]
  },
  {
   "cell_type": "markdown",
   "id": "602a7f1d",
   "metadata": {},
   "source": [
    "## 2021 Google Android Ground Truth\n",
    "We can similarly load in the ground truth data from the same 2021 Google Smartphone Decimeter Challenge."
   ]
  },
  {
   "cell_type": "code",
   "execution_count": null,
   "id": "8721297a",
   "metadata": {},
   "outputs": [],
   "source": [
    "# download Android data file\n",
    "glp.make_dir(\"../data\")\n",
    "!wget https://raw.githubusercontent.com/Stanford-NavLab/gnss_lib_py/main/data/unit_test/google_decimeter_2021/Pixel4_ground_truth.csv --quiet -nc -O \"../data/Pixel4_ground_truth.csv\"\n",
    "# load Android Google Challenge ground truth data\n",
    "gt_data = glp.AndroidGroundTruth2021(\"../data/Pixel4_ground_truth.csv\")"
   ]
  },
  {
   "cell_type": "code",
   "execution_count": null,
   "id": "35cba5a4",
   "metadata": {},
   "outputs": [],
   "source": [
    "gt_data.shape"
   ]
  },
  {
   "cell_type": "code",
   "execution_count": null,
   "id": "a1b0e8b6",
   "metadata": {},
   "outputs": [],
   "source": [
    "gt_data.rows"
   ]
  }
 ],
 "metadata": {
  "kernelspec": {
   "display_name": "Python 3 (ipykernel)",
   "language": "python",
   "name": "python3"
  },
  "language_info": {
   "codemirror_mode": {
    "name": "ipython",
    "version": 3
   },
   "file_extension": ".py",
   "mimetype": "text/x-python",
   "name": "python",
   "nbconvert_exporter": "python",
   "pygments_lexer": "ipython3",
   "version": "3.8.9"
  },
  "vscode": {
   "interpreter": {
    "hash": "c7717b1dd2ec65abd747d44a25869d062db68d19263f8e701e26dddb0b153342"
   }
  }
 },
 "nbformat": 4,
 "nbformat_minor": 5
}
