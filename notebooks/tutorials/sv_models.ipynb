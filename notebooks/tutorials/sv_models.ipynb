{
 "cells": [
  {
   "cell_type": "markdown",
   "metadata": {},
   "source": [
    "Load `gnss_lib_py` into the Python workspace"
   ]
  },
  {
   "cell_type": "code",
   "execution_count": null,
   "metadata": {},
   "outputs": [],
   "source": [
    "import gnss_lib_py as glp"
   ]
  },
  {
   "cell_type": "markdown",
   "metadata": {},
   "source": [
    "# Adding SV States with Precise Ephemerides (SP3 & CLK)"
   ]
  },
  {
   "cell_type": "markdown",
   "metadata": {},
   "source": [
    "This tutorial explains how to calculate satellite states using precise SP3 and CLK files.\n",
    "\n",
    "The data required to calculate with precise ephemerides uses .sp3 and .clk files, which can be downloaded from [CDDIS](https://cddis.nasa.gov/Data_and_Derived_Products/GNSS/gnss_mgex.html) or [CORS](https://geodesy.noaa.gov/UFCORS/).\n",
    "\n",
    "The .sp3 files provide post-processed, accurate, and precise information regarding 3-D satellite position in the Earth-Centered Earth-Fixed (ECEF) frame at intervals of 15mins each.  \n",
    "\n",
    "Similarly, the .clk files provide post-processed, accurate and precise information on satellite clock errors at intervals of 30secs each.  \n",
    "\n",
    "These .sp3 and .clk files are available for any GNSS constellation, and hence, provide a common processing platform for applications that involve multi-GNSS satellite signals (without requiring to parse the broadcast ephemeris from each constellation separately one at a time). Also, unlike broadcast ephemeris that can suffer from signal-in-space anomalies, the .sp3 and .clk files are guaranteed to provide accurate satellite information. However, note that, these files are only available in a post-processed manner, and not in real-time\n",
    "\n",
    "We show how to analyze this precise ephemerides functionality for the Android derived dataset in the following cells, \n",
    "\n",
    "1. Load the derived data from AndroidDerived and remove the rows in NavData class that refer to satellite information (3-D satellite position, 3-D satellite velocity, clock bias and clock drift),"
   ]
  },
  {
   "cell_type": "code",
   "execution_count": null,
   "metadata": {},
   "outputs": [],
   "source": [
    "import numpy as np\n",
    "\n",
    "# load Android Google Challenge data\n",
    "!wget https://raw.githubusercontent.com/Stanford-NavLab/gnss_lib_py/main/data/unit_test/android_2021/Pixel4_derived_clkdiscnt.csv --quiet -O \"Pixel4_derived_clkdiscnt.csv\"\n",
    "derived_data = glp.AndroidDerived2021(\"Pixel4_derived_clkdiscnt.csv\", remove_timing_outliers=False)\n",
    "# Define the keys relevant for satellite information, and remove the data within these fields\n",
    "SV_KEYS = ['x_sv_m', 'y_sv_m', 'z_sv_m', \\\n",
    "           'vx_sv_mps','vy_sv_mps','vz_sv_mps', \\\n",
    "           'b_sv_m', 'b_dot_sv_mps']\n",
    "derived_data.remove(rows=SV_KEYS,inplace=True)"
   ]
  },
  {
   "cell_type": "markdown",
   "metadata": {},
   "source": [
    "2. Specify the paths to the .sp3 and .clk files using the `file_path` variable. If files are not specified, they will be automatically downloaded using the ephemeris downloader."
   ]
  },
  {
   "cell_type": "code",
   "execution_count": null,
   "metadata": {},
   "outputs": [],
   "source": [
    "# download .sp3 data file\n",
    "!wget https://raw.githubusercontent.com/Stanford-NavLab/gnss_lib_py/main/data/unit_test/sp3/COD0MGXFIN_20211180000_01D_05M_ORB.SP3 --quiet -O \"COD0MGXFIN_20211180000_01D_05M_ORB.SP3\"\n",
    "# Specify .sp3 file path to extract precise ephemerides\n",
    "sp3_path = \"COD0MGXFIN_20211180000_01D_05M_ORB.SP3\"\n",
    "\n",
    "# download .clk data file\n",
    "!wget https://raw.githubusercontent.com/Stanford-NavLab/gnss_lib_py/main/data/unit_test/clk/COD0MGXFIN_20211180000_01D_30S_CLK.CLK --quiet -O \"COD0MGXFIN_20211180000_01D_30S_CLK.CLK\"\n",
    "# Specify .clk file path to extract precise ephemerides\n",
    "clk_path = \"COD0MGXFIN_20211180000_01D_30S_CLK.CLK\""
   ]
  },
  {
   "cell_type": "markdown",
   "metadata": {},
   "source": [
    "3. Populate the columns of SV_KEYS with information extracted via precise ephemerides"
   ]
  },
  {
   "cell_type": "code",
   "execution_count": null,
   "metadata": {},
   "outputs": [],
   "source": [
    "# Update derived_data class with satellite information computed via precise ephemerides\n",
    "derived_multi_gnss = glp.add_sv_states(derived_data, source=\"precise\", file_paths=[sp3_path, clk_path],\n",
    "                                       verbose = False)"
   ]
  },
  {
   "cell_type": "markdown",
   "metadata": {},
   "source": [
    "Check that all the desired fields related to satellite information have useful information and the norm of computed satellite position matches the altitude of GNSS constellations"
   ]
  },
  {
   "cell_type": "code",
   "execution_count": null,
   "metadata": {},
   "outputs": [],
   "source": [
    "\n",
    "sat_alt = np.linalg.norm(derived_multi_gnss[[\"x_sv_m\",\"y_sv_m\",\"z_sv_m\"],9:12],axis=0)\n",
    "print('Distance of two satellites from the center of the Earth (expected around 26000000 m)')\n",
    "print(\"Three GPS SVs calculated to be at:\", sat_alt,\"\\n\")\n",
    "\n",
    "print(\"Small section of calculated positions:\")\n",
    "print(derived_multi_gnss.copy(cols=[2,3,4,5],rows=[\"gnss_id\"]+SV_KEYS))"
   ]
  },
  {
   "cell_type": "markdown",
   "metadata": {},
   "source": [
    "# Adding SV states to `NavData` with received measurements using broadcast ephemeris"
   ]
  },
  {
   "cell_type": "markdown",
   "metadata": {},
   "source": [
    "This tutorial explains how to estimate SV states, both as estimation for\n",
    "a single time instance and measurements and as a wrapper for an entire\n",
    "set of received measurements.\n",
    "\n",
    "For this tutorial, we will work with the `AndroidDerived2022` dataset.\n",
    "This serves the dual purpose of showing how each functionality works and\n",
    "allowing us to compare the SV states estimated in `sv_models.py` to that\n",
    "estimated by Google. The latter verifies state computation from our method.\n",
    "\n",
    "Load the test dataset for the Android Derived 2022 dataset"
   ]
  },
  {
   "cell_type": "code",
   "execution_count": null,
   "metadata": {},
   "outputs": [],
   "source": [
    "import numpy as np\n",
    "# download Android data file\n",
    "!wget https://raw.githubusercontent.com/Stanford-NavLab/gnss_lib_py/main/data/unit_test/android_2022/device_gnss.csv --quiet -O \"device_gnss.csv\"\n",
    "# load Android Google Challenge data\n",
    "derived_data = glp.AndroidDerived2022(\"device_gnss.csv\")"
   ]
  },
  {
   "cell_type": "markdown",
   "metadata": {},
   "source": [
    "Create a copy of `derived_data` for comparison later on and remove\n",
    "Google computed SV states from `derived_data`. \n",
    "\n",
    "These states will be added to `derived_data` using functions from `gnss_lib_py`.\n",
    "\n",
    "Currently we only support GPS satellites for SV state estimation with\n",
    "broadcast ephemeris parameters. Support for other constellations is \n",
    "coming soon."
   ]
  },
  {
   "cell_type": "markdown",
   "metadata": {},
   "source": [
    "Now, estimate SV states and add them to `derived_data` using `gnss_lib_py`."
   ]
  },
  {
   "cell_type": "code",
   "execution_count": null,
   "metadata": {},
   "outputs": [],
   "source": [
    "derived_gps = derived_data.where(\"gnss_id\", \"gps\")\n",
    "derived_l1 = derived_gps.where(\"signal_type\", \"l1\")\n",
    "derived_reference = derived_l1.copy()\n",
    "sv_state_rows = ['x_sv_m', 'y_sv_m', 'z_sv_m', 'vx_sv_mps', 'vy_sv_mps', 'vz_sv_mps', 'b_sv_m']\n",
    "derived_l1.remove(rows=sv_state_rows, inplace=True)\n",
    "derived_sv_states = glp.add_sv_states(derived_l1, ephemeris_path = \"ephemeris/\")"
   ]
  },
  {
   "cell_type": "markdown",
   "metadata": {},
   "source": [
    "For sanity checking, we compare our estimated SV states to those computed\n",
    "by Google and print out the maximum absolute errors"
   ]
  },
  {
   "cell_type": "code",
   "execution_count": null,
   "metadata": {},
   "outputs": [],
   "source": [
    "print('Estimating differences between estimated SV states and Google reference')\n",
    "for row in sv_state_rows:\n",
    "    mean_diff = np.mean(derived_reference[row] - derived_sv_states[row])\n",
    "    max_diff = np.max(np.abs(derived_reference[row] - derived_sv_states[row]))\n",
    "    print(f\"For row {row}, the max error is {max_diff:.4f}, the mean error is {mean_diff:.4f}\")"
   ]
  },
  {
   "cell_type": "markdown",
   "metadata": {},
   "source": [
    "# Add SV states for visible satellites given a series of times and positions"
   ]
  },
  {
   "cell_type": "markdown",
   "metadata": {},
   "source": [
    "Given a series of times and a trajectory, find visible satellites \n",
    "(assuming open sky conditions) for those positions and times"
   ]
  },
  {
   "cell_type": "code",
   "execution_count": null,
   "metadata": {},
   "outputs": [],
   "source": [
    "# Construct a linear trajectory starting from the Durand building and\n",
    "# moving North at 10 m/s for 10 steps\n",
    "# This trajectory will not have any major differences in calculated\n",
    "# satellite positions but is to demonstrate the functionality\n",
    "\n",
    "from datetime import datetime, timezone\n",
    "# Send time at which SV states are needed in GPS millis\n",
    "start_time = datetime(year=2021,\n",
    "                       month=4,\n",
    "                       day=29,\n",
    "                       hour=22,\n",
    "                       minute=30,\n",
    "                       second=0)\n",
    "start_time = start_time.replace(tzinfo=timezone.utc)\n",
    "start_gps_millis = glp.datetime_to_gps_millis(start_time)\n",
    "\n",
    "# Create sequence of times\n",
    "gps_millis_traj = start_gps_millis + 1000.*np.arange(10)\n",
    "\n",
    "# Define receiver position in ECEF\n",
    "rx_LLA_durand = np.reshape([37.427112, -122.1764146, 16], [3, 1])\n",
    "rx_ecef_durand = np.reshape(glp.geodetic_to_ecef(rx_LLA_durand), [3, 1])\n",
    "\n",
    "# Create sequence of moving receiver (using approximation of long to meters)\n",
    "rx_LLA_traj = rx_LLA_durand + np.vstack((np.zeros(10), \n",
    "                                         0.0001*10.*np.arange(10), \n",
    "                                         np.zeros(10)))\n",
    "\n",
    "# Convert trajectory to ECEF \n",
    "rx_ecef_traj = glp.geodetic_to_ecef(rx_LLA_traj)\n",
    "\n",
    "# Create state estimate with given trajectory\n",
    "state_traj = glp.NavData()\n",
    "state_traj['gps_millis'] = gps_millis_traj\n",
    "state_traj['x_rx_m'] = rx_ecef_traj[0,:]\n",
    "state_traj['y_rx_m'] = rx_ecef_traj[1,:]\n",
    "state_traj['z_rx_m'] = rx_ecef_traj[2,:]\n",
    "\n",
    "# Define all GPS satellites, so that all broadcast ephemeris parameters\n",
    "# are downloaded\n",
    "gps_all_sats = [f\"G{sv:02}\" for sv in range(1, 33)]\n",
    "\n",
    "# Download ephemeris files for given time\n",
    "ephem_all_sats = glp.get_time_cropped_rinex(start_gps_millis, gps_all_sats, ephemeris_directory=\"ephemeris\")"
   ]
  },
  {
   "cell_type": "markdown",
   "metadata": {},
   "source": [
    "With the setup done, we now pass these parameters to `add_visible_svs_for_trajectory`\n",
    "to add visible satellites corresponding to the times and positions of the\n",
    "trajectory."
   ]
  },
  {
   "cell_type": "code",
   "execution_count": null,
   "metadata": {},
   "outputs": [],
   "source": [
    "sv_posvel_traj = glp.add_visible_svs_for_trajectory(state_traj,\n",
    "                                                    ephemeris_path=\"ephemeris\")\n"
   ]
  },
  {
   "cell_type": "markdown",
   "metadata": {},
   "source": [
    "For reference, we demonstrate the changing satellite positions for SV ID\n",
    "30"
   ]
  },
  {
   "cell_type": "code",
   "execution_count": null,
   "metadata": {},
   "outputs": [],
   "source": [
    "sv_posvel_traj_sv25 = sv_posvel_traj.where(\"sv_id\", 25)\n",
    "\n",
    "print('GPS milliseconds with first time subtracted\\n', \n",
    "        sv_posvel_traj_sv25['gps_millis'] - start_gps_millis)\n",
    "\n",
    "print('Changing x ECEF SV positions\\n',\n",
    "        sv_posvel_traj_sv25['x_sv_m'] - sv_posvel_traj_sv25['x_sv_m', 0])\n",
    "\n",
    "print('Consecutive change in x ECEF positions\\n', \n",
    "        sv_posvel_traj_sv25['x_sv_m', 1:] - sv_posvel_traj_sv25['x_sv_m', :-1])\n",
    "\n",
    "print('Velocity along x ECEF for reference\\n',\n",
    "        sv_posvel_traj_sv25['vx_sv_mps'])"
   ]
  },
  {
   "cell_type": "markdown",
   "metadata": {},
   "source": [
    "# Finding PRNs and states for visible SVs for a given position and time"
   ]
  },
  {
   "cell_type": "markdown",
   "metadata": {},
   "source": [
    "Consider the problem of states of SVs that would be visible from Durand\n",
    "building (considering open sky with an elevation mask of 5&deg;) on the \n",
    "Stanford campus on 30th April, 2021.\n",
    "\n",
    "In this section, we show how to estimate the visible satellites and then\n",
    "compute their states"
   ]
  },
  {
   "cell_type": "code",
   "execution_count": null,
   "metadata": {},
   "outputs": [],
   "source": [
    "# Uses start_time, start_gps_millis, rx_ecef_durand, and ephem from previous\n",
    "# section\n",
    "\n",
    "\n",
    "\n",
    "# Use input time, Rx position and all broadcast ephemeris parameters to\n",
    "# find ephemeris parameters for visible satellites\n",
    "\n",
    "ephem_viz = glp.find_visible_ephem(start_gps_millis, rx_ecef_durand, ephem_all_sats)\n",
    "\n",
    "print(\"SV IDs for visible satellites are \", ephem_viz['sv_id'])\n"
   ]
  },
  {
   "cell_type": "markdown",
   "metadata": {},
   "source": [
    "# Finding SV states at given time and for specific PRNs"
   ]
  },
  {
   "cell_type": "markdown",
   "metadata": {},
   "source": [
    "Using the ephemeris parameters, we can find SV states for those specific\n",
    "PRNs.\n",
    "\n",
    "`gnss_lib_py` offers two options to find SV states:\n",
    "1. Estimating SV states at precisely the given time\n",
    "2. Estimating SV states for the given reception time. This subtracts the\n",
    "   time of travel for the signal (based on the receiver position) and\n",
    "   computes the SV states at that approximate transmission time.\n",
    "   This method requires an estimate of the receiver's position.\n",
    "\n",
    "The time taken for signals to reach the Earth from satellites is roughly\n",
    "70 ms and the difference between SV positions is roughly 200 m.\n",
    "\n",
    "In this section, we show both methods of estimating SV states."
   ]
  },
  {
   "cell_type": "code",
   "execution_count": null,
   "metadata": {},
   "outputs": [],
   "source": [
    "# Using find_sv_states and a filtered ephem\n",
    "# Option 1: Estimate SV states for the given transmission time (does not \n",
    "# account for any signal travel time)\n",
    "sv_states_tx = glp.find_sv_states(start_gps_millis, ephem_viz)\n",
    "\n",
    "# Option 2: Estimate SV states for given reception time (factors and removes\n",
    "# approximately the time taken by the signal to reach the receiver)\n",
    "# This method requires an estimate of the receiver's position and also\n",
    "# gives difference between positions and the estimated true range\n",
    "sv_states_rx, del_pos, true_range = glp.find_sv_location(start_gps_millis, rx_ecef_durand, ephem_viz)\n",
    "\n",
    "print('Difference between x positions estimated for Tx and Rx times \\n', \n",
    "      sv_states_tx['x_sv_m'] - sv_states_rx['x_sv_m'])\n",
    "print('Difference between x velocities estimated for Tx and Rx times\\n', \n",
    "      sv_states_tx['vx_sv_mps'] - sv_states_rx['vx_sv_mps'])\n"
   ]
  },
  {
   "cell_type": "markdown",
   "metadata": {},
   "source": [
    "# Simulating SV positions given elevation and azimuth"
   ]
  },
  {
   "cell_type": "markdown",
   "metadata": {},
   "source": [
    "When working in a local frame of reference, it can be faster to simulate\n",
    "satellite positions locally, based on elevation and azimuth angles.\n",
    "\n",
    "In this section, we demonstrate how to achieve this by giving an `np.ndarray`\n",
    "containing elevation and azimuth angles to get an `np.ndarray` "
   ]
  },
  {
   "cell_type": "code",
   "execution_count": null,
   "metadata": {},
   "outputs": [],
   "source": [
    "# Use svs_from_el_az\n",
    "elevation = np.array([30., 45., 60., 30.])\n",
    "azimuth = np.linspace(0, 360., 4, endpoint=False)\n",
    "el_az = np.vstack((elevation, azimuth))\n",
    "local_svs = glp.svs_from_el_az(el_az)\n",
    "\n",
    "print('Given elevation angles are ', elevation)\n",
    "print('Given azimuth angles are ', azimuth)\n",
    "print('Local coordinates for generated satellites are \\n', local_svs)\n"
   ]
  }
 ],
 "metadata": {
  "kernelspec": {
   "display_name": "Python 3 (ipykernel)",
   "language": "python",
   "name": "python3"
  },
  "language_info": {
   "codemirror_mode": {
    "name": "ipython",
    "version": 3
   },
   "file_extension": ".py",
   "mimetype": "text/x-python",
   "name": "python",
   "nbconvert_exporter": "python",
   "pygments_lexer": "ipython3",
   "version": "3.8.9"
  }
 },
 "nbformat": 4,
 "nbformat_minor": 2
}
