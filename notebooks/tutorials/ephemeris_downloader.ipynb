{
 "cells": [
  {
   "cell_type": "markdown",
   "id": "a1126926",
   "metadata": {},
   "source": [
    "# Ephemeris Downloader"
   ]
  },
  {
   "cell_type": "code",
   "execution_count": null,
   "id": "929486f6",
   "metadata": {},
   "outputs": [],
   "source": [
    "import numpy as np\n",
    "import gnss_lib_py as glp\n",
    "from datetime import datetime, timezone"
   ]
  },
  {
   "cell_type": "markdown",
   "id": "8ea72a0c",
   "metadata": {},
   "source": [
    "The `load_ephemeris` function from the `utils/ephemeris_downloader.py` file can be used to automatically download ephemeris files and check whether the correct ephemeris files have already been downloaded.\n",
    "\n",
    "As an example, say we want to find satellite positions for a specific location and time. We will use `load_ephemeris` to download the correct ephemeris files."
   ]
  },
  {
   "cell_type": "code",
   "execution_count": null,
   "id": "2bbfabff",
   "metadata": {},
   "outputs": [],
   "source": [
    "lat, lon, alt = 37.42984154652992, -122.16946303566934, 0.\n",
    "timestamp_start = datetime(year=2023, month=3, day=14, hour=12, tzinfo=timezone.utc)\n",
    "timestamp_end = datetime(year=2023, month=3, day=14, hour=13, tzinfo=timezone.utc)"
   ]
  },
  {
   "cell_type": "markdown",
   "id": "32390f44",
   "metadata": {},
   "source": [
    "To download ephemeris simply pass in the file type you want to download (either `sp3`, `clk`, or `rinex_nav` and the time at which you want the ephemeris in units of GPS milliseconds. The output of the `load_ephemeris` function is the path to the ephemeris files."
   ]
  },
  {
   "cell_type": "code",
   "execution_count": null,
   "id": "13e826e6",
   "metadata": {},
   "outputs": [],
   "source": [
    "gps_millis = glp.datetime_to_gps_millis(np.array([timestamp_start,timestamp_end]))\n",
    "sp3_path = glp.load_ephemeris(file_type=\"sp3\", \n",
    "                              gps_millis=gps_millis,\n",
    "                              verbose=True)"
   ]
  },
  {
   "cell_type": "markdown",
   "id": "fb631ff0",
   "metadata": {},
   "source": [
    "To visualize the data, we can then plot the satellite positions using a skyplot from our receiver's location we input above. For the skyplot we need to parse the sp3 file we downloaded using the `Sp3` class and then create a `NavData` instance to pass in our receiver's position."
   ]
  },
  {
   "cell_type": "code",
   "execution_count": null,
   "id": "a09816e3",
   "metadata": {},
   "outputs": [],
   "source": [
    "# load the sp3 file\n",
    "sp3 = glp.Sp3(sp3_path)\n",
    "\n",
    "# create receiver state NavData instance to pass into skyplot function\n",
    "x_rx_m, y_rx_m, z_rx_m = glp.geodetic_to_ecef(np.array([[lat,lon,alt]]))[0]\n",
    "receiver_state = glp.NavData()\n",
    "receiver_state[\"gps_millis\"] = glp.datetime_to_gps_millis(timestamp_start)\n",
    "receiver_state[\"x_rx_m\"] = x_rx_m\n",
    "receiver_state[\"y_rx_m\"] = y_rx_m\n",
    "receiver_state[\"z_rx_m\"] = z_rx_m"
   ]
  },
  {
   "cell_type": "markdown",
   "id": "bcfe81aa",
   "metadata": {},
   "source": [
    "Now we can plot the skyplot from the downloaded data. For readability, we crop the sp3 data to only include satellite positions between the start and end timestamp from above."
   ]
  },
  {
   "cell_type": "code",
   "execution_count": null,
   "id": "cd23bf03",
   "metadata": {},
   "outputs": [],
   "source": [
    "cropped_sp3 = sp3.where(\"gps_millis\",gps_millis[0],\"geq\").where(\"gps_millis\",gps_millis[1],\"leq\")\n",
    "fig = glp.plot_skyplot(cropped_sp3,receiver_state)"
   ]
  }
 ],
 "metadata": {
  "kernelspec": {
   "display_name": "Python 3 (ipykernel)",
   "language": "python",
   "name": "python3"
  },
  "language_info": {
   "codemirror_mode": {
    "name": "ipython",
    "version": 3
   },
   "file_extension": ".py",
   "mimetype": "text/x-python",
   "name": "python",
   "nbconvert_exporter": "python",
   "pygments_lexer": "ipython3",
   "version": "3.8.9"
  }
 },
 "nbformat": 4,
 "nbformat_minor": 5
}
