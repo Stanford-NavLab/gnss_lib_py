{
 "cells": [
  {
   "cell_type": "markdown",
   "metadata": {},
   "source": [
    "# Global Coordinate Conversions"
   ]
  },
  {
   "cell_type": "code",
   "execution_count": null,
   "metadata": {},
   "outputs": [],
   "source": [
    "import numpy as np\n",
    "from gnss_lib_py.utils import coordinates as coord"
   ]
  },
  {
   "cell_type": "markdown",
   "metadata": {},
   "source": [
    "ECEF coordintes for N positions can be converted to LLA and back by\n",
    "using functions defined in `utils/coordinates.py`"
   ]
  },
  {
   "cell_type": "code",
   "execution_count": null,
   "metadata": {},
   "outputs": [],
   "source": [
    "# Using the LLA coordinates the Aero/Astro department at Stanford University\n",
    "x_lla = np.array([[37.427112], [-122.1764146], [16]])\n",
    "print('Converted ECEF coordinates')\n",
    "print(coord.geodetic_to_ecef(x_lla))\n",
    "\n",
    "x_ecef = np.array([[-2700628], [-4292443], [3855152]])\n",
    "print('Converted LLA coordinates')\n",
    "print(coord.ecef_to_geodetic(x_ecef))"
   ]
  },
  {
   "cell_type": "markdown",
   "metadata": {},
   "source": [
    "# Local NED Frame Conversions"
   ]
  },
  {
   "cell_type": "markdown",
   "metadata": {},
   "source": [
    "A local North-East-Down (NED) frame of reference can be instantiated\n",
    "by defining the point at the origin of the coordinate frame using either\n",
    "its ECEF position or LLA (w.r.t the WGS-84 ellipsoid) coordinates"
   ]
  },
  {
   "cell_type": "code",
   "execution_count": null,
   "metadata": {},
   "outputs": [],
   "source": [
    "# Instantiate using LLA coordinates\n",
    "local_frame = coord.LocalCoord.from_geodetic(x_lla)\n",
    "print('NED to ECEF conversion matrix for initialized local frame')\n",
    "print(local_frame.ned_to_ecef_matrix)\n",
    "\n",
    "local_frame = coord.LocalCoord.from_geodetic(x_ecef)\n",
    "print('NED to ECEF conversion matrix for initialized local frame')\n",
    "print(local_frame.ned_to_ecef_matrix)"
   ]
  },
  {
   "cell_type": "markdown",
   "metadata": {},
   "source": [
    "Once initialized, the `local_frame` can be used to convert position\n",
    "vectors to NED from ECEF or LLA and vice-versa"
   ]
  },
  {
   "cell_type": "code",
   "execution_count": null,
   "metadata": {},
   "outputs": [],
   "source": [
    "ned = local_frame.ecef_to_ned(x_ecef)\n",
    "print('The converted NED coordinates are')\n",
    "print(ned)\n",
    "\n",
    "ecef = local_frame.ned_to_ecef(ned)\n",
    "print('The converted ECEF coordinates are')\n",
    "print(ecef)\n",
    "\n",
    "lla = local_frame.ned_to_geodetic(ned)\n",
    "print('The converted LLA coordinates are')\n",
    "print(lla)"
   ]
  },
  {
   "cell_type": "markdown",
   "metadata": {},
   "source": [
    "The `local_frame` can also be used to convert free vectors in the NED\n",
    "frame of reference to free vectors in the ECEF frame of reference"
   ]
  },
  {
   "cell_type": "code",
   "execution_count": null,
   "metadata": {},
   "outputs": [],
   "source": [
    "v_vect = np.array([[1], [0], [0]])\n",
    "v_ned = local_frame.ned_to_ecefv(v_vect)\n",
    "print('The converted free vector in ECEF is')\n",
    "print(v_ned)\n",
    "v_ecef = local_frame.ecef_to_nedv(v_ned)\n",
    "print('The converted free vector in NED is ')\n",
    "print(v_ecef)"
   ]
  },
  {
   "cell_type": "markdown",
   "metadata": {},
   "source": [
    "# Elevation and Aziumth from ECEF Positions"
   ]
  },
  {
   "cell_type": "markdown",
   "metadata": {},
   "source": [
    "Find elevation and azimuth angle from receiver and satellite ECEF positions."
   ]
  },
  {
   "cell_type": "code",
   "execution_count": null,
   "metadata": {},
   "outputs": [],
   "source": [
    "from gnss_lib_py.utils.coordinates import ecef_to_el_az\n",
    "from gnss_lib_py.parsers.android import AndroidDerived2022\n",
    "\n",
    "# load Android Google Challenge data\n",
    "!wget https://raw.githubusercontent.com/Stanford-NavLab/gnss_lib_py/main/data/unit_test/android_2022/device_gnss.csv --quiet -O \"device_gnss.csv\"\n",
    "navdata = AndroidDerived2022(\"device_gnss.csv\")\n",
    "navdata_subset = navdata.where(\"gps_millis\",navdata[\"gps_millis\",0]) # only use data from first timestep"
   ]
  },
  {
   "cell_type": "markdown",
   "metadata": {},
   "source": [
    "To calculate the elevation and azimuth, pass in the receiver and satellites' ECEF positions."
   ]
  },
  {
   "cell_type": "code",
   "execution_count": null,
   "metadata": {},
   "outputs": [],
   "source": [
    "pos_sv_m = navdata_subset[[\"x_sv_m\",\"y_sv_m\",\"z_sv_m\"]].T\n",
    "pos_rx_m = navdata_subset[[\"x_rx_m\",\"y_rx_m\",\"z_rx_m\"],0].reshape(1,-1)\n",
    "\n",
    "calculated_el_az = ecef_to_el_az(pos_rx_m,pos_sv_m)\n",
    "truth_el_az = navdata_subset[[\"el_sv_deg\",\"az_sv_deg\"]].T"
   ]
  },
  {
   "cell_type": "markdown",
   "metadata": {},
   "source": [
    "We can now compare the calculated elevation and azimuth with their respective \"truth\" values included in the Google Decimeter Challenge 2022 dataset."
   ]
  },
  {
   "cell_type": "code",
   "execution_count": null,
   "metadata": {},
   "outputs": [],
   "source": [
    "for sat_idx in range(3):\n",
    "    print(f\"SV ID: {int(navdata_subset['sv_id',sat_idx])}\")\n",
    "    print(f\"Calculated elevation: {calculated_el_az[sat_idx,0]}, Truth elevation: {truth_el_az[sat_idx,0]}\")\n",
    "    print(f\"Calculated azimuth: {calculated_el_az[sat_idx,1]}, Truth azimuth: {truth_el_az[sat_idx,1]}\")"
   ]
  }
 ],
 "metadata": {
  "kernelspec": {
   "display_name": "Python 3",
   "language": "python",
   "name": "python3"
  },
  "language_info": {
   "codemirror_mode": {
    "name": "ipython",
    "version": 3
   },
   "file_extension": ".py",
   "mimetype": "text/x-python",
   "name": "python",
   "nbconvert_exporter": "python",
   "pygments_lexer": "ipython3",
   "version": "3.8.9"
  },
  "orig_nbformat": 4,
  "vscode": {
   "interpreter": {
    "hash": "c7717b1dd2ec65abd747d44a25869d062db68d19263f8e701e26dddb0b153342"
   }
  }
 },
 "nbformat": 4,
 "nbformat_minor": 2
}
