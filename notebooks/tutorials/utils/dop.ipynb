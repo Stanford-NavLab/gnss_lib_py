{
 "cells": [
  {
   "cell_type": "markdown",
   "metadata": {},
   "source": [
    "# DOP\n",
    "\n",
    "Dillution of Precision (DOP) describes the effect of satellite geometry on the \n",
    "user's positioning accuracy. \n",
    "DOP can refer to multiple ideas:\n",
    "\n",
    "1. DOP in the horizontal or vertical direction,\n",
    "2. DOP on the time uncertainty,\n",
    "3. The full DOP matrix, or\n",
    "4. DOP in a particular direction.\n",
    "\n",
    "Here we show how to make use of existing functionality. \n",
    "For more details on the underlying math, please see the [Navipedia page on \n",
    "positioning error](https://gssc.esa.int/navipedia/index.php?title=Positioning_Error)."
   ]
  },
  {
   "cell_type": "code",
   "execution_count": null,
   "metadata": {},
   "outputs": [],
   "source": [
    "import gnss_lib_py as glp\n",
    "import numpy as np\n",
    "\n",
    "# A library for url downloads that works regardless of `wget` command\n",
    "import urllib.request"
   ]
  },
  {
   "cell_type": "markdown",
   "metadata": {},
   "source": [
    "As an example, we can load in data from the 2022 Google Smartphone Decimeter \n",
    "Challenge"
   ]
  },
  {
   "cell_type": "code",
   "execution_count": null,
   "metadata": {},
   "outputs": [],
   "source": [
    "glp.make_dir(\"../data\")\n",
    "urllib.request.urlretrieve(\"https://raw.githubusercontent.com/Stanford-NavLab/gnss_lib_py/main/data/unit_test/google_decimeter_2022/device_gnss.csv\", \"../data/device_gnss.csv\")\n",
    "\n",
    "navdata = glp.AndroidDerived2022(\"../data/device_gnss.csv\")"
   ]
  },
  {
   "cell_type": "markdown",
   "metadata": {},
   "source": [
    "Since we already have elevation and azimuth data available to us, we can simply\n",
    "call the `get_dop` function, which will only return the HDOP and VDOP values,\n",
    "by default.\n",
    "HDOP corresponds to the dilution of precision in the horizontal direction\n",
    "(i.e., East and North plane), and VDOP corresponds to the dilution of precision\n",
    "in the vertical direction (i.e., the Up axis)."
   ]
  },
  {
   "cell_type": "code",
   "execution_count": null,
   "metadata": {},
   "outputs": [],
   "source": [
    "dop_navdata = glp.get_dop(navdata)\n",
    "print(dop_navdata)"
   ]
  },
  {
   "cell_type": "markdown",
   "metadata": {},
   "source": [
    "Some applications may care about the dilution of precision in time (TDOP), but\n",
    "may not be interested in the dilution of precision in position. \n",
    "Simply pass this information to the parser."
   ]
  },
  {
   "cell_type": "code",
   "execution_count": null,
   "metadata": {},
   "outputs": [],
   "source": [
    "dop_navdata = glp.get_dop(navdata, HDOP=False, VDOP=False, TDOP=True)\n",
    "print(dop_navdata)"
   ]
  },
  {
   "cell_type": "markdown",
   "metadata": {},
   "source": [
    "Below we illustrate all supported DOP types. The full DOP matrix (in ENU) is \n",
    "\n",
    "$$Q = \n",
    "\\begin{bmatrix}\n",
    "    q_{ee} & q_{en} & q_{eu} & q_{et} \\\\\n",
    "    q_{ne} & q_{nn} & q_{nu} & q_{nt} \\\\\n",
    "    q_{ue} & q_{un} & q_{uu} & q_{ut} \\\\\n",
    "    q_{te} & q_{tn} & q_{tu} & q_{tt} \\\\\n",
    "\\end{bmatrix}$$\n",
    "\n",
    "The matrix is symmetric (i.e., $q_{en} = q_{ne}$). \n",
    "Often the elements along the diagonal are of primary interest\n",
    "$$Q = \n",
    "\\begin{bmatrix} \n",
    "    \\text{EDOP}^2 & \\cdot & \\cdot & \\cdot \\\\\n",
    "    \\cdot & \\text{NDOP}^2 & \\cdot & \\cdot \\\\\n",
    "    \\cdot & \\cdot & \\text{VDOP}^2 & \\cdot \\\\\n",
    "    \\cdot & \\cdot & \\cdot & \\text{TDOP}^2\n",
    "\\end{bmatrix}$$\n",
    "\n",
    "\n",
    "To store the dop matrix $Q$ in `dop_navdata`, the upper triangle is\n",
    "splatted across columns to enable fast storage and access in the navdata using\n",
    "numpy."
   ]
  },
  {
   "cell_type": "code",
   "execution_count": null,
   "metadata": {},
   "outputs": [],
   "source": [
    "dop_navdata = glp.get_dop(navdata, GDOP= True, HDOP=True, VDOP=True,\n",
    "                          PDOP=True, TDOP=True, dop_matrix=True)\n",
    "print(dop_navdata)"
   ]
  },
  {
   "cell_type": "markdown",
   "metadata": {},
   "source": [
    "We can recover the unsplatted versions of the DOP matrix as needed if we \n",
    "loop through time."
   ]
  },
  {
   "cell_type": "code",
   "execution_count": null,
   "metadata": {},
   "outputs": [],
   "source": [
    "for timestamp, _, dop_navdata_subset in glp.loop_time(dop_navdata, 'gps_millis'):\n",
    "\n",
    "    labels = glp.get_enu_dop_labels()\n",
    "\n",
    "    dop_matrix_splat = np.array(\n",
    "        [dop_navdata_subset[f'dop_{label}'] for label in labels])\n",
    "\n",
    "    print(f\"At time {timestamp} the DOP matrix is\")\n",
    "    print(glp.unsplat_dop_matrix(dop_matrix_splat))"
   ]
  },
  {
   "cell_type": "markdown",
   "metadata": {},
   "source": [
    "Lastly, we can compute the contribution in a particular direction with numpy."
   ]
  },
  {
   "cell_type": "code",
   "execution_count": null,
   "metadata": {},
   "outputs": [],
   "source": [
    "direction_of_interest = np.array([-1, 1, 0, 0])\n",
    "# Normalize the direction of interest\n",
    "direction_of_interest = direction_of_interest / np.linalg.norm(direction_of_interest)\n",
    "\n",
    "for timestamp, _, dop_navdata_subset in glp.loop_time(dop_navdata, 'gps_millis'):\n",
    "\n",
    "    labels = glp.get_enu_dop_labels()\n",
    "\n",
    "    dop_matrix_splat = np.array(\n",
    "        [dop_navdata_subset[f'dop_{label}'] for label in labels])\n",
    "    dop_matrix_unsplat = glp.unsplat_dop_matrix(dop_matrix_splat)\n",
    "\n",
    "    dop_in_direction = np.sqrt(\n",
    "        direction_of_interest @ dop_matrix_unsplat @ direction_of_interest)\n",
    "\n",
    "    print(f\"At time {timestamp} the DOP in the direction of interest is {dop_in_direction}\")"
   ]
  }
 ],
 "metadata": {
  "kernelspec": {
   "display_name": "gnss-lib-py-FzLQXRBT-py3.11",
   "language": "python",
   "name": "python3"
  },
  "language_info": {
   "codemirror_mode": {
    "name": "ipython",
    "version": 3
   },
   "file_extension": ".py",
   "mimetype": "text/x-python",
   "name": "python",
   "nbconvert_exporter": "python",
   "pygments_lexer": "ipython3",
   "version": "3.11.7"
  }
 },
 "nbformat": 4,
 "nbformat_minor": 2
}
