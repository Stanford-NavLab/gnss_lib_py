{
 "cells": [
  {
   "cell_type": "markdown",
   "id": "e8cfabd7",
   "metadata": {},
   "source": [
    "This tutorial explains details about existing parsers and how to create a new parser if necessary."
   ]
  },
  {
   "cell_type": "markdown",
   "id": "d5632d85",
   "metadata": {},
   "source": [
    "Load `gnss_lib_py` into the Python workspace"
   ]
  },
  {
   "cell_type": "code",
   "execution_count": null,
   "id": "f7468fd3",
   "metadata": {},
   "outputs": [],
   "source": [
    "import gnss_lib_py as glp"
   ]
  },
  {
   "cell_type": "markdown",
   "id": "76ee7e5e",
   "metadata": {},
   "source": [
    "# 2022 Google Android Derived Dataset"
   ]
  },
  {
   "cell_type": "markdown",
   "id": "ceac98ce",
   "metadata": {},
   "source": [
    "This data comes from the 2022 Google Smartphone Decimeter Challenge and can be downloaded from [Kaggle](https://www.kaggle.com/c/smartphone-decimeter-2022)."
   ]
  },
  {
   "cell_type": "markdown",
   "id": "e2ec49c6",
   "metadata": {},
   "source": [
    "Loading the data into an instance of `NavData` is as easy as creating an instance of `AndroidDerived2022` with the relevant file path."
   ]
  },
  {
   "cell_type": "code",
   "execution_count": null,
   "id": "c335608f",
   "metadata": {},
   "outputs": [],
   "source": [
    "# download Android data file\n",
    "!wget https://raw.githubusercontent.com/Stanford-NavLab/gnss_lib_py/main/data/unit_test/android_2022/device_gnss.csv --quiet -O \"device_gnss.csv\"\n",
    "# load Android Google Challenge data\n",
    "derived_data = glp.AndroidDerived2022(\"device_gnss.csv\")"
   ]
  },
  {
   "cell_type": "markdown",
   "id": "eb53fe00",
   "metadata": {},
   "source": [
    "We can verify that the data loaded correctly by printing the shape and rows of the imported data."
   ]
  },
  {
   "cell_type": "code",
   "execution_count": null,
   "id": "01b5d56a",
   "metadata": {},
   "outputs": [],
   "source": [
    "derived_data.shape"
   ]
  },
  {
   "cell_type": "code",
   "execution_count": null,
   "id": "cc2d26d9",
   "metadata": {},
   "outputs": [],
   "source": [
    "derived_data.rows"
   ]
  },
  {
   "cell_type": "markdown",
   "id": "076d5ea5",
   "metadata": {},
   "source": [
    "# 2022 Google Android Ground Truth\n",
    "We can similarly load in the ground truth data from the same 2022 Google Smartphone Decimeter Challenge."
   ]
  },
  {
   "cell_type": "code",
   "execution_count": null,
   "id": "21581d69",
   "metadata": {},
   "outputs": [],
   "source": [
    "# download Android data file\n",
    "!wget https://raw.githubusercontent.com/Stanford-NavLab/gnss_lib_py/main/data/unit_test/android_2022/ground_truth.csv --quiet -O \"ground_truth.csv\"\n",
    "# load Android Google Challenge ground truth data\n",
    "gt_data = glp.AndroidGroundTruth2022(\"ground_truth.csv\")"
   ]
  },
  {
   "cell_type": "code",
   "execution_count": null,
   "id": "ef4a123a",
   "metadata": {},
   "outputs": [],
   "source": [
    "gt_data.shape"
   ]
  },
  {
   "cell_type": "code",
   "execution_count": null,
   "id": "9f327d87",
   "metadata": {
    "scrolled": false
   },
   "outputs": [],
   "source": [
    "gt_data.rows"
   ]
  },
  {
   "cell_type": "markdown",
   "id": "c849214b",
   "metadata": {},
   "source": [
    "# 2022 Google Decimeter Kaggle Challenge\n",
    "There are utility functions to prepare Kaggle submissions for the 2022 challenge."
   ]
  },
  {
   "cell_type": "markdown",
   "id": "83ac7998",
   "metadata": {},
   "source": [
    "We offer a function to convert the provided Weighted Least Squares baseline solution into the standard `state_estimate` format found throughout `gnss_lib_py`. Simply pass in the derived data NavData object."
   ]
  },
  {
   "cell_type": "code",
   "execution_count": null,
   "id": "a990ec31",
   "metadata": {},
   "outputs": [],
   "source": [
    "state_estimate = glp.solve_kaggle_baseline(derived_data)\n",
    "\n",
    "print(state_estimate)"
   ]
  },
  {
   "cell_type": "markdown",
   "id": "f1504d5d",
   "metadata": {},
   "source": [
    "`prepare_kaggle_submission` can be used to convert the standard `state_estimate` format to a NavData object with the same rows and row names which the 2022 Kaggle competition expects. The `trip_id` is a combination of the trajectory trace name and phone name."
   ]
  },
  {
   "cell_type": "code",
   "execution_count": null,
   "id": "22f43b10",
   "metadata": {},
   "outputs": [],
   "source": [
    "solution = glp.prepare_kaggle_submission(state_estimate, trip_id = \"my_trace/my_phone\")\n",
    "\n",
    "print(solution)"
   ]
  },
  {
   "cell_type": "markdown",
   "id": "7e8879f2",
   "metadata": {},
   "source": [
    "`solve_kaggle_dataset` can be used to automatically iterate through all trace trajectory names and phone names, estimate the state using the provided solver, and concatenate all state estimates together for a single submission. The `solver` variable could use `solve_kaggle_baseline`, `solve_wls`, or `solve_gnss_ekf` for example.\n"
   ]
  },
  {
   "cell_type": "code",
   "execution_count": null,
   "id": "49659881",
   "metadata": {},
   "outputs": [],
   "source": [
    "# submission = glp.solve_kaggle_dataset(folder_path = \"/path/to/train/or/test/folder/\", \n",
    "#                                   solver = glp.solve_wls)\n",
    "\n",
    "# after the submission NavData object is created, save it to a csv with:\n",
    "# submission.to_csv(\"file_path.csv\")"
   ]
  },
  {
   "cell_type": "markdown",
   "id": "0f78bfdb",
   "metadata": {},
   "source": [
    "# 2021 Google Android Derived Dataset"
   ]
  },
  {
   "cell_type": "markdown",
   "id": "b43a523e",
   "metadata": {},
   "source": [
    "This data comes from the 2021 Google Smartphone Decimeter Challenge and can be downloaded from [Kaggle](https://www.kaggle.com/c/google-smartphone-decimeter-challenge)."
   ]
  },
  {
   "cell_type": "markdown",
   "id": "e12cecb0",
   "metadata": {},
   "source": [
    "Loading the data into an instance of `NavData` is as easy as creating an instance of `AndroidDerived2021` with the relevant file path."
   ]
  },
  {
   "cell_type": "code",
   "execution_count": null,
   "id": "6447cd99",
   "metadata": {},
   "outputs": [],
   "source": [
    "# download Android data file\n",
    "!wget https://raw.githubusercontent.com/Stanford-NavLab/gnss_lib_py/main/data/unit_test/android_2021/Pixel4_derived.csv --quiet -O \"Pixel4_derived.csv\"\n",
    "# load Android Google Challenge data\n",
    "derived_data = glp.AndroidDerived2021(\"Pixel4_derived.csv\")"
   ]
  },
  {
   "cell_type": "markdown",
   "id": "00bc1b39",
   "metadata": {},
   "source": [
    "We can verify that the data loaded correctly by printing the shape and rows of the imported data."
   ]
  },
  {
   "cell_type": "code",
   "execution_count": null,
   "id": "407270ad",
   "metadata": {},
   "outputs": [],
   "source": [
    "derived_data.shape"
   ]
  },
  {
   "cell_type": "code",
   "execution_count": null,
   "id": "2ac2fc75",
   "metadata": {},
   "outputs": [],
   "source": [
    "derived_data.rows"
   ]
  },
  {
   "cell_type": "markdown",
   "id": "602a7f1d",
   "metadata": {},
   "source": [
    "# 2021 Google Android Ground Truth\n",
    "We can similarly load in the ground truth data from the same 2021 Google Smartphone Decimeter Challenge."
   ]
  },
  {
   "cell_type": "code",
   "execution_count": null,
   "id": "8721297a",
   "metadata": {},
   "outputs": [],
   "source": [
    "# download Android data file\n",
    "!wget https://raw.githubusercontent.com/Stanford-NavLab/gnss_lib_py/main/data/unit_test/android_2021/Pixel4_ground_truth.csv --quiet -O \"Pixel4_ground_truth.csv\"\n",
    "# load Android Google Challenge ground truth data\n",
    "gt_data = glp.AndroidGroundTruth2021(\"Pixel4_ground_truth.csv\")"
   ]
  },
  {
   "cell_type": "code",
   "execution_count": null,
   "id": "35cba5a4",
   "metadata": {},
   "outputs": [],
   "source": [
    "gt_data.shape"
   ]
  },
  {
   "cell_type": "code",
   "execution_count": null,
   "id": "a1b0e8b6",
   "metadata": {
    "scrolled": false
   },
   "outputs": [],
   "source": [
    "gt_data.rows"
   ]
  },
  {
   "cell_type": "markdown",
   "id": "95e58b71",
   "metadata": {},
   "source": [
    "# TU Chemnitz SmartLoc\n",
    "This tutorial shows how to load data from TU Chemnitz's [smartLoc GNSS Dataset](https://www.tu-chemnitz.de/projekt/smartLoc/gnss_dataset.html.en#Datasets)."
   ]
  },
  {
   "cell_type": "code",
   "execution_count": null,
   "id": "714dbb21",
   "metadata": {},
   "outputs": [],
   "source": [
    "import gnss_lib_py as glp"
   ]
  },
  {
   "cell_type": "code",
   "execution_count": null,
   "id": "b369035d",
   "metadata": {},
   "outputs": [],
   "source": [
    "# download cropped SmartLoc data file\n",
    "!wget https://raw.githubusercontent.com/Stanford-NavLab/gnss_lib_py/main/data/unit_test/smartloc/tu_chemnitz_berlin_1_raw.csv --quiet -O \"smartloc.csv\"\n",
    "    \n",
    "# load smartLoc data into NavData object\n",
    "smartloc_data = glp.SmartLocRaw(\"smartloc.csv\")"
   ]
  },
  {
   "cell_type": "code",
   "execution_count": null,
   "id": "4dd67679",
   "metadata": {},
   "outputs": [],
   "source": [
    "# plot the pseudorange over time of each individual satellite\n",
    "# SBAS 120 is the outlier with its larger orbit\n",
    "fig = glp.plot_metric(smartloc_data, \"gps_millis\",\"raw_pr_m\", groupby=\"sv_id\")"
   ]
  },
  {
   "cell_type": "code",
   "execution_count": null,
   "id": "fe8d92d7",
   "metadata": {
    "scrolled": true
   },
   "outputs": [],
   "source": [
    "# show the ground truth smartLoc data on a map\n",
    "fig = glp.plot_map(smartloc_data)\n",
    "fig.show()"
   ]
  },
  {
   "cell_type": "markdown",
   "id": "e93e4676",
   "metadata": {},
   "source": [
    "# SP3 File Parsing"
   ]
  },
  {
   "cell_type": "markdown",
   "id": "d1ce069f",
   "metadata": {},
   "source": [
    "This tutorial shows how to load SP3 files."
   ]
  },
  {
   "cell_type": "code",
   "execution_count": null,
   "id": "c0756386",
   "metadata": {},
   "outputs": [],
   "source": [
    "# download an example .sp3 data file\n",
    "!wget https://raw.githubusercontent.com/Stanford-NavLab/gnss_lib_py/main/data/unit_test/sp3/COD0MGXFIN_20211180000_01D_05M_ORB.SP3 --quiet -O \"COD0MGXFIN_20211180000_01D_05M_ORB.SP3\"\n",
    "# Specify .sp3 file path to extract precise ephemerides\n",
    "sp3_path = \"COD0MGXFIN_20211180000_01D_05M_ORB.SP3\""
   ]
  },
  {
   "cell_type": "markdown",
   "id": "2ad4d614",
   "metadata": {},
   "source": [
    "Use the SP3 class loader to load in the SP3 file. The class can also optionally take multiple files as a list."
   ]
  },
  {
   "cell_type": "code",
   "execution_count": null,
   "id": "5906e3cb",
   "metadata": {},
   "outputs": [],
   "source": [
    "sp3 = glp.Sp3(sp3_path)\n",
    "sp3"
   ]
  },
  {
   "cell_type": "markdown",
   "id": "73352028",
   "metadata": {},
   "source": [
    "To visualize the results, we'll plot the ECEF x position of the first 10 GPS satellites."
   ]
  },
  {
   "cell_type": "code",
   "execution_count": null,
   "id": "76834337",
   "metadata": {
    "scrolled": false
   },
   "outputs": [],
   "source": [
    "sp3_first_ten_gps = sp3.where(\"gnss_id\",\"gps\").where(\"sv_id\",10,\"leq\")\n",
    "fig = glp.plot_metric_by_constellation(sp3_first_ten_gps,\"gps_millis\",\"x_sv_m\")"
   ]
  },
  {
   "cell_type": "markdown",
   "id": "c351c2eb",
   "metadata": {},
   "source": [
    "# CLK File Parsing"
   ]
  },
  {
   "cell_type": "markdown",
   "id": "9519121f",
   "metadata": {},
   "source": [
    "This tutorial shows how to load CLK files."
   ]
  },
  {
   "cell_type": "code",
   "execution_count": null,
   "id": "102f55d9",
   "metadata": {},
   "outputs": [],
   "source": [
    "# download an example .clk data file\n",
    "!wget https://raw.githubusercontent.com/Stanford-NavLab/gnss_lib_py/main/data/unit_test/clk/COD0MGXFIN_20211180000_01D_30S_CLK.CLK --quiet -O \"COD0MGXFIN_20211180000_01D_30S_CLK.CLK\"\n",
    "# Specify .clk file path to extract precise ephemerides\n",
    "clk_path = \"COD0MGXFIN_20211180000_01D_30S_CLK.CLK\""
   ]
  },
  {
   "cell_type": "markdown",
   "id": "b90a33e5",
   "metadata": {},
   "source": [
    "Use the Clk class loader to load in the CLK file. The class can also optionally take multiple files as a list."
   ]
  },
  {
   "cell_type": "code",
   "execution_count": null,
   "id": "6ab5eb6c",
   "metadata": {},
   "outputs": [],
   "source": [
    "clk = glp.Clk(clk_path)\n",
    "clk"
   ]
  },
  {
   "cell_type": "markdown",
   "id": "b87c055c",
   "metadata": {},
   "source": [
    "To visualize the results, we'll plot the clock bias of the first BeiDou satellites."
   ]
  },
  {
   "cell_type": "code",
   "execution_count": null,
   "id": "b1a1b9b7",
   "metadata": {
    "scrolled": true
   },
   "outputs": [],
   "source": [
    "clk_first_beidou = clk.where(\"gnss_id\",\"beidou\").where(\"sv_id\",16,\"leq\")\n",
    "fig = glp.plot_metric_by_constellation(clk_first_beidou,\"b_sv_m\")"
   ]
  },
  {
   "cell_type": "markdown",
   "id": "b0a917b6",
   "metadata": {},
   "source": [
    "# NMEA File Parsing"
   ]
  },
  {
   "cell_type": "markdown",
   "id": "f166df97",
   "metadata": {},
   "source": [
    "NMEA is a file standard for storing and transferring position data and GPS measurements.\n",
    "`gnss_lib_py` has functionality for reading NMEA files and loading the data into a `NavData`, which we demonstrate next."
   ]
  },
  {
   "cell_type": "markdown",
   "id": "aa0ea320",
   "metadata": {},
   "source": [
    "Each NMEA sentence has a header eg. `$GPGGA` which describes whether the message is propreitary or general purpose and the type of message.\n",
    "In this case, the message is `GGA`. `gnss_lib_py` currently supports `GGA` and `RMC` message types.\n",
    "\n",
    "Each NMEA sentence also comes with a checksum, which may appear after the '*' in each sentence.\n",
    "In case the checksums are to be checked, pass the parameter `check=True` to the `Nmea` initialization."
   ]
  },
  {
   "cell_type": "code",
   "execution_count": null,
   "id": "cbae66a6",
   "metadata": {},
   "outputs": [],
   "source": [
    "# download NMEA data and load it into NavData instance\n",
    "!wget https://raw.githubusercontent.com/Stanford-NavLab/gnss_lib_py/main/data/unit_test/nmea/nmea_w_correct_checksum.nmea --quiet -O \"nmea_w_correct_checksum.nmea\"\n",
    "# Load the NMEA file into a NavData structure\n",
    "nmea_navdata = glp.Nmea('nmea_w_correct_checksum.nmea')\n",
    "print('Loaded NMEA data\\n', nmea_navdata)"
   ]
  },
  {
   "cell_type": "markdown",
   "id": "6606e32a",
   "metadata": {},
   "source": [
    "If the checksum is not to be checked, pass the parameter `check=False` to the initialization."
   ]
  },
  {
   "cell_type": "code",
   "execution_count": null,
   "id": "81034771",
   "metadata": {},
   "outputs": [],
   "source": [
    "!wget https://raw.githubusercontent.com/Stanford-NavLab/gnss_lib_py/main/data/unit_test/nmea/nmea_no_checksum.nmea --quiet -O \"nmea_w_no_checksum.nmea\"\n",
    "# Load the NMEA file into a NavData structure\n",
    "nmea_navdata = glp.Nmea('nmea_w_no_checksum.nmea', check=False)\n",
    "print('Loaded NMEA data\\n', nmea_navdata)"
   ]
  },
  {
   "cell_type": "markdown",
   "id": "a87c37c2",
   "metadata": {},
   "source": [
    "NMEA GGA and RMC sentences store latitude and longitude coordinates in a `ddmm.mmmmmmm` format along with a cardinal direction like `N` or `W`.\n",
    "\n",
    "By default, these coordinates are transformed into decimal degrees but the original data format can be retained in the final loaded `NavData`.\n",
    "Also, the LLH coordinates can be transformed to ECEF coordinates."
   ]
  },
  {
   "cell_type": "code",
   "execution_count": null,
   "id": "a74a2f16",
   "metadata": {},
   "outputs": [],
   "source": [
    "nmea_navdata = glp.Nmea('nmea_w_correct_checksum.nmea', keep_raw=True, include_ecef=True)\n",
    "print('Loaded NMEA data with raw data and ECEF coordinates\\n', nmea_navdata)"
   ]
  },
  {
   "cell_type": "markdown",
   "id": "fe8e8d6a",
   "metadata": {},
   "source": [
    "# Rinex Observation File Parsing"
   ]
  },
  {
   "cell_type": "markdown",
   "id": "af135db1",
   "metadata": {},
   "source": [
    "Rinex is another file standard that is used in the GNSS community to store and transmit navigation information.\n",
    "Files with the extension `.yyo`, where `yy` is the year in which the measurement was made, are used to store and transmit\n",
    "measurements.\n",
    "These measurement files can contain any constellation and each measurement usually contains the pseudorange, carrier phase (or difference from carrier frequency),\n",
    "doppler, and signal-to-noise ratio measurements.\n",
    "In the following lines, we show how to load a ``.o`` file into a NavData instance."
   ]
  },
  {
   "cell_type": "code",
   "execution_count": null,
   "id": "9f279032",
   "metadata": {},
   "outputs": [],
   "source": [
    "# download Rinex obs file and load it into NavData instance\n",
    "!wget https://raw.githubusercontent.com/Stanford-NavLab/gnss_lib_py/main/data/unit_test/rinex/obs/rinex_obs_mixed_types.20o --quiet -O \"rinex_obs_mixed_types.20o\"\n",
    "rinex_obs_3 = glp.RinexObs(\"rinex_obs_mixed_types.20o\")\n",
    "print('Loaded Rinex Obs 3 data for the first time instant\\n', \\\n",
    "      rinex_obs_3.where('gps_millis', rinex_obs_3['gps_millis', 0], 'eq'))"
   ]
  },
  {
   "cell_type": "markdown",
   "id": "8f1f2cd2",
   "metadata": {},
   "source": [
    "# Rinex Navigation File Parsing"
   ]
  },
  {
   "cell_type": "markdown",
   "id": "63352eb8",
   "metadata": {},
   "source": [
    "Rinex Navigation files can be loaded using `RinexNav`"
   ]
  },
  {
   "cell_type": "code",
   "execution_count": null,
   "id": "b034c805",
   "metadata": {},
   "outputs": [],
   "source": [
    "# download example Rinex navigation file\n",
    "!wget https://raw.githubusercontent.com/Stanford-NavLab/gnss_lib_py/main/data/unit_test/rinex/nav/brdc1370.20n --quiet -O \"brdc1370.20n\""
   ]
  },
  {
   "cell_type": "code",
   "execution_count": null,
   "id": "f14e71ef",
   "metadata": {},
   "outputs": [],
   "source": [
    "# load into NavData instance\n",
    "rinex_nav = glp.RinexNav(\"brdc1370.20n\")\n",
    "rinex_nav"
   ]
  },
  {
   "cell_type": "markdown",
   "id": "eb016e74",
   "metadata": {},
   "source": [
    "# How to Create a New NavData Class"
   ]
  },
  {
   "cell_type": "markdown",
   "id": "28dad153",
   "metadata": {},
   "source": [
    "The modular and versatile functionality of this gnss_lib_py repository is enabled by loading all data types into a custom Python NavData class. If you are using a type of data or dataset that is not yet supported, you will need to create a new child class of the NavData Python class. This tutorial will guide you on how to set up your new Python child class. Once complete, please feel free to submit a pull request to our GitHub repository so other users can  make use of the added functionality."
   ]
  },
  {
   "cell_type": "markdown",
   "id": "69598dcc",
   "metadata": {},
   "source": [
    "For this example, say that we have a new type of data called MyReceiver that is a csv file with columns of a timestamp, satellite identifier, and pseudorange. The contents of a sample `myreceiver.csv` is the following:\n",
    "\n",
    "| myTimestamp | mySatId | myPseudorange |\n",
    "| ----------- | ------- | ------------- |\n",
    "| 10          | 10      | 270000001     |\n",
    "| 10          | 14      | 270000007     |\n",
    "| 10          | 7       | 270000004     |\n",
    "| 10          | 3       | 270000005     |\n",
    "| 11          | 10      | 270000002     |\n",
    "| 11          | 14      | 270000008     |\n",
    "| 11          | 7       | 270000003     |\n",
    "| 11          | 3       | 270000004     |"
   ]
  },
  {
   "cell_type": "markdown",
   "id": "fedf66f3",
   "metadata": {},
   "source": [
    "The first step is importing the base `NavData` class and creating a new class type that inherits from `NavData`"
   ]
  },
  {
   "cell_type": "markdown",
   "id": "20c325d6",
   "metadata": {},
   "source": [
    "```python\n",
    "class MyReceiver(NavData):\n",
    "    \"\"\"Class handling measurements from MyReceiver.\n",
    "\n",
    "    Inherits from NavData().\n",
    "    \"\"\"\n",
    "```"
   ]
  },
  {
   "cell_type": "markdown",
   "id": "c60a6fe4",
   "metadata": {},
   "source": [
    "The `__init__` function should have a call to the parent `NavData` `__init__` function. Based on your data input, you should call the corresponding initializer.\n",
    "\n",
    "For csv files, call: `super().__init__(csv_path=input_path)`  \n",
    "For pandas DataFrames, call `super().__init__(pandas_df=input_path)`  \n",
    "For numpy ndarrays, call `super().__init__(numpy_array=input_path)`  \n",
    "\n",
    "In our case, we have a csv file, so our `__init__` function looks like the following:"
   ]
  },
  {
   "cell_type": "markdown",
   "id": "d51dff11",
   "metadata": {},
   "source": [
    "```python\n",
    "def __init__(self, input_path):\n",
    "    \"\"\"MyReceive specific loading and preprocessing\n",
    "\n",
    "    Parameters\n",
    "    ----------\n",
    "    input_path : string\n",
    "        Path to MyReceiver csv file\n",
    "\n",
    "    \"\"\"\n",
    "\n",
    "    # call NavData initialization with csv path\n",
    "    super().__init__(csv_path=input_path)\n",
    "```"
   ]
  },
  {
   "cell_type": "markdown",
   "id": "4d8dc67f",
   "metadata": {},
   "source": [
    "After our data is loaded, we may want to make known changes to our data. We can make those changes by defining a `postprocess` function. NavData's `__init__` function that we call in our initializer already makes a call to the `postprocess` function, so we don't have to repeat that call in `MyReceiver`'s `__init__` function."
   ]
  },
  {
   "cell_type": "markdown",
   "id": "c7d9b213",
   "metadata": {},
   "source": [
    "One thing that we need to do to make use of the common functionality of `gnss_lib_py` is to standardize the names of our variables. See the [Standard Naming Conventions](https://gnss-lib-py.readthedocs.io/en/latest/reference/reference.html#standard-naming-conventions) section in the Reference tab of the documentation for the list of standardized names.\n",
    "\n",
    "In our case, we will convert `mySatId` to `sv_id` and `myPseudorange` to `raw_pr_m`. We make these conversions by simply updating the `_row_map` function."
   ]
  },
  {
   "cell_type": "markdown",
   "id": "bee9b8a1",
   "metadata": {},
   "source": [
    "```python\n",
    "\n",
    "\n",
    "@staticmethod\n",
    "def _row_map():\n",
    "    \"\"\"Map of column names from loaded to gnss_lib_py standard\n",
    "\n",
    "    Returns\n",
    "    -------\n",
    "    row_map : Dict\n",
    "        Dictionary of the form {old_name : new_name}\n",
    "    \"\"\"\n",
    "    row_map = {'mySatId' : 'sv_id',\n",
    "               'myPseudorange' : 'raw_pr_m',\n",
    "               }\n",
    "    return row_map\n",
    "```"
   ]
  },
  {
   "cell_type": "markdown",
   "id": "dbbe8d55",
   "metadata": {},
   "source": [
    "As an additional postprocessing step, we may want to offset our pseudorange due to a known error or create the common timestamp variable `gps_millis` based on our unique timestamp row. Adding the `gps_millis` row enables the use of some of the common algorithms. The [time conversion utilities](https://gnss-lib-py.readthedocs.io/en/latest/tutorials/tutorials_utilities_notebook.html) can be used to create `gps_millis` from the GPS Week & Time of week, GPS milliseconds, or a datetime object."
   ]
  },
  {
   "cell_type": "markdown",
   "id": "97fbeb7b",
   "metadata": {},
   "source": [
    "```python\n",
    "# correct pseudorange\n",
    "self['corr_pr_m'] = self['raw_pr_m'] + 100.\n",
    "\n",
    "# create common timestamp\n",
    "self['gps_millis'] = self['myTimestamp'] + 5629719023\n",
    "```"
   ]
  },
  {
   "cell_type": "markdown",
   "id": "72884667",
   "metadata": {},
   "source": [
    "Putting it all together, we have:"
   ]
  },
  {
   "cell_type": "code",
   "execution_count": null,
   "id": "956af339",
   "metadata": {},
   "outputs": [],
   "source": [
    "from gnss_lib_py import NavData\n",
    "\n",
    "class MyReceiver(NavData):\n",
    "    \"\"\"Class handling measurements from MyReceiver.\n",
    "\n",
    "    Inherits from NavData().\n",
    "    \"\"\"\n",
    "    def __init__(self, input_path):\n",
    "        \"\"\"MyReceive specific loading and preprocessing\n",
    "\n",
    "        Parameters\n",
    "        ----------\n",
    "        input_path : string\n",
    "            Path to MyReceiver csv file\n",
    "\n",
    "        \"\"\"\n",
    "        \n",
    "        # call NavData initialization with csv path\n",
    "        super().__init__(csv_path=input_path)\n",
    "        \n",
    "    def postprocess(self):\n",
    "        \"\"\"MyReceiver specific postprocessing\n",
    "\n",
    "        \"\"\"\n",
    "\n",
    "        # correct pseudorange\n",
    "        self['corr_pr_m'] = self['raw_pr_m'] + 100.\n",
    "        \n",
    "        # create common timestamp\n",
    "        self['gps_millis'] = self['myTimestamp'] + 1659075505350\n",
    "        \n",
    "\n",
    "    @staticmethod\n",
    "    def _row_map():\n",
    "        \"\"\"Map of column names from loaded to gnss_lib_py standard\n",
    "\n",
    "        Returns\n",
    "        -------\n",
    "        row_map : Dict\n",
    "            Dictionary of the form {old_name : new_name}\n",
    "        \"\"\"\n",
    "        row_map = {'mySatId' : 'sv_id',\n",
    "                   'myPseudorange' : 'raw_pr_m',\n",
    "                   }\n",
    "        return row_map"
   ]
  },
  {
   "cell_type": "markdown",
   "id": "1ccadb47",
   "metadata": {},
   "source": [
    "We can now create a instance of our new `MyReceiver` class with the path to our csv called `myreceiver.csv`."
   ]
  },
  {
   "cell_type": "code",
   "execution_count": null,
   "id": "b611a39f",
   "metadata": {},
   "outputs": [],
   "source": [
    "# download myreceiver.csv file\n",
    "!wget https://raw.githubusercontent.com/Stanford-NavLab/gnss_lib_py/main/notebooks/tutorials/myreceiver.csv --quiet -O \"myreceiver.csv\"\n",
    "\n",
    "# create instance of MyReceiver\n",
    "my_receiver_data = MyReceiver(\"myreceiver.csv\")"
   ]
  },
  {
   "cell_type": "markdown",
   "id": "52b64751",
   "metadata": {},
   "source": [
    "Let's print out our corrected pseudorange to make sure everything worked correctly."
   ]
  },
  {
   "cell_type": "code",
   "execution_count": null,
   "id": "bae52fb6",
   "metadata": {},
   "outputs": [],
   "source": [
    "my_receiver_data[\"corr_pr_m\"]"
   ]
  },
  {
   "cell_type": "markdown",
   "id": "fd3eea3d",
   "metadata": {},
   "source": [
    "We can now take advantage of all the tools `gnss_lib_py` has to offer!"
   ]
  },
  {
   "cell_type": "code",
   "execution_count": null,
   "id": "bad31b8a",
   "metadata": {},
   "outputs": [],
   "source": [
    "fig = glp.plot_metric(my_receiver_data,\"gps_millis\",\"corr_pr_m\",groupby=\"sv_id\")"
   ]
  }
 ],
 "metadata": {
  "kernelspec": {
   "display_name": "Python 3 (ipykernel)",
   "language": "python",
   "name": "python3"
  },
  "language_info": {
   "codemirror_mode": {
    "name": "ipython",
    "version": 3
   },
   "file_extension": ".py",
   "mimetype": "text/x-python",
   "name": "python",
   "nbconvert_exporter": "python",
   "pygments_lexer": "ipython3",
   "version": "3.8.9"
  },
  "vscode": {
   "interpreter": {
    "hash": "c7717b1dd2ec65abd747d44a25869d062db68d19263f8e701e26dddb0b153342"
   }
  }
 },
 "nbformat": 4,
 "nbformat_minor": 5
}
