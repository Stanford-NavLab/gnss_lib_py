{
 "cells": [
  {
   "cell_type": "markdown",
   "id": "e8cfabd7",
   "metadata": {},
   "source": [
    "This tutorial explains details about existing parsers and how to create a new parser if necessary."
   ]
  },
  {
   "cell_type": "markdown",
   "id": "76ee7e5e",
   "metadata": {},
   "source": [
    "# 2022 Google Android Derived Dataset"
   ]
  },
  {
   "cell_type": "markdown",
   "id": "ceac98ce",
   "metadata": {},
   "source": [
    "This data comes from the 2022 Google Smartphone Decimeter Challenge and can be downloaded from [Kaggle](https://www.kaggle.com/c/smartphone-decimeter-2022)."
   ]
  },
  {
   "cell_type": "code",
   "execution_count": null,
   "id": "cce0e69e",
   "metadata": {},
   "outputs": [],
   "source": [
    "from gnss_lib_py.parsers.android import AndroidDerived2022"
   ]
  },
  {
   "cell_type": "markdown",
   "id": "e2ec49c6",
   "metadata": {},
   "source": [
    "Loading the data into an instance of `NavData` is as easy as creating an instance of `AndroidDerived2022` with the relevant file path."
   ]
  },
  {
   "cell_type": "code",
   "execution_count": null,
   "id": "c335608f",
   "metadata": {},
   "outputs": [],
   "source": [
    "# download Android data file\n",
    "!wget https://raw.githubusercontent.com/Stanford-NavLab/gnss_lib_py/main/data/unit_test/android_2022/device_gnss.csv --quiet -O \"device_gnss.csv\"\n",
    "# load Android Google Challenge data\n",
    "derived_data = AndroidDerived2022(\"device_gnss.csv\")"
   ]
  },
  {
   "cell_type": "markdown",
   "id": "eb53fe00",
   "metadata": {},
   "source": [
    "We can verify that the data loaded correctly by printing the shape and rows of the imported data."
   ]
  },
  {
   "cell_type": "code",
   "execution_count": null,
   "id": "01b5d56a",
   "metadata": {},
   "outputs": [],
   "source": [
    "derived_data.shape"
   ]
  },
  {
   "cell_type": "code",
   "execution_count": null,
   "id": "cc2d26d9",
   "metadata": {},
   "outputs": [],
   "source": [
    "derived_data.rows"
   ]
  },
  {
   "cell_type": "markdown",
   "id": "076d5ea5",
   "metadata": {},
   "source": [
    "# 2022 Google Android Ground Truth\n",
    "We can similarly load in the ground truth data from the same 2022 Google Smartphone Decimeter Challenge."
   ]
  },
  {
   "cell_type": "code",
   "execution_count": null,
   "id": "9369f387",
   "metadata": {},
   "outputs": [],
   "source": [
    "from gnss_lib_py.parsers.android import AndroidGroundTruth2022"
   ]
  },
  {
   "cell_type": "code",
   "execution_count": null,
   "id": "21581d69",
   "metadata": {},
   "outputs": [],
   "source": [
    "# download Android data file\n",
    "!wget https://raw.githubusercontent.com/Stanford-NavLab/gnss_lib_py/main/data/unit_test/android_2022/ground_truth.csv --quiet -O \"ground_truth.csv\"\n",
    "# load Android Google Challenge ground truth data\n",
    "gt_data = AndroidGroundTruth2022(\"ground_truth.csv\")"
   ]
  },
  {
   "cell_type": "code",
   "execution_count": null,
   "id": "ef4a123a",
   "metadata": {},
   "outputs": [],
   "source": [
    "gt_data.shape"
   ]
  },
  {
   "cell_type": "code",
   "execution_count": null,
   "id": "9f327d87",
   "metadata": {
    "scrolled": false
   },
   "outputs": [],
   "source": [
    "gt_data.rows"
   ]
  },
  {
   "cell_type": "markdown",
   "id": "c849214b",
   "metadata": {},
   "source": [
    "# 2022 Google Decimeter Kaggle Challenge\n",
    "There are utility functions to prepare Kaggle submissions for the 2022 challenge."
   ]
  },
  {
   "cell_type": "markdown",
   "id": "83ac7998",
   "metadata": {},
   "source": [
    "We offer a function to convert the provided Weighted Least Squares baseline solution into the standard `state_estimate` format found throughout `gnss_lib_py`. Simply pass in the derived data NavData object."
   ]
  },
  {
   "cell_type": "code",
   "execution_count": null,
   "id": "a990ec31",
   "metadata": {},
   "outputs": [],
   "source": [
    "from gnss_lib_py.parsers.android import solve_kaggle_baseline\n",
    "\n",
    "state_estimate = solve_kaggle_baseline(derived_data)\n",
    "\n",
    "print(state_estimate)"
   ]
  },
  {
   "cell_type": "markdown",
   "id": "f1504d5d",
   "metadata": {},
   "source": [
    "`prepare_kaggle_submission` can be used to convert the standard `state_estimate` format to a NavData object with the same rows and row names which the 2022 Kaggle competition expects. The `trip_id` is a combination of the trajectory trace name and phone name."
   ]
  },
  {
   "cell_type": "code",
   "execution_count": null,
   "id": "22f43b10",
   "metadata": {},
   "outputs": [],
   "source": [
    "from gnss_lib_py.parsers.android import prepare_kaggle_submission\n",
    "\n",
    "solution = prepare_kaggle_submission(state_estimate, trip_id = \"my_trace/my_phone\")\n",
    "\n",
    "print(solution)"
   ]
  },
  {
   "cell_type": "markdown",
   "id": "7e8879f2",
   "metadata": {},
   "source": [
    "`solve_kaggle_dataset` can be used to automatically iterate through all trace trajectory names and phone names, estimate the state using the provided solver, and concatenate all state estimates together for a single submission. The `solver` variable could use `solve_kaggle_baseline`, `solve_wls`, or `solve_gnss_ekf` for example.\n"
   ]
  },
  {
   "cell_type": "code",
   "execution_count": null,
   "id": "49659881",
   "metadata": {},
   "outputs": [],
   "source": [
    "from gnss_lib_py.parsers.android import solve_kaggle_dataset\n",
    "from gnss_lib_py.algorithms.snapshot import solve_wls\n",
    "\n",
    "# submission = solve_kaggle_dataset(folder_path = \"/path/to/train/or/test/folder/\", \n",
    "#                                   solver = solve_wls)\n",
    "\n",
    "# after the submission NavData object is created, save it to a csv with:\n",
    "# submission.to_csv(\"file_path.csv\")"
   ]
  },
  {
   "cell_type": "markdown",
   "id": "0f78bfdb",
   "metadata": {},
   "source": [
    "# 2021 Google Android Derived Dataset"
   ]
  },
  {
   "cell_type": "markdown",
   "id": "b43a523e",
   "metadata": {},
   "source": [
    "This data comes from the 2021 Google Smartphone Decimeter Challenge and can be downloaded from [Kaggle](https://www.kaggle.com/c/google-smartphone-decimeter-challenge)."
   ]
  },
  {
   "cell_type": "code",
   "execution_count": null,
   "id": "4da54a37",
   "metadata": {},
   "outputs": [],
   "source": [
    "from gnss_lib_py.parsers.android import AndroidDerived2021"
   ]
  },
  {
   "cell_type": "markdown",
   "id": "e12cecb0",
   "metadata": {},
   "source": [
    "Loading the data into an instance of `NavData` is as easy as creating an instance of `AndroidDerived2021` with the relevant file path."
   ]
  },
  {
   "cell_type": "code",
   "execution_count": null,
   "id": "6447cd99",
   "metadata": {},
   "outputs": [],
   "source": [
    "# download Android data file\n",
    "!wget https://raw.githubusercontent.com/Stanford-NavLab/gnss_lib_py/main/data/unit_test/android_2021/Pixel4_derived.csv --quiet -O \"Pixel4_derived.csv\"\n",
    "# load Android Google Challenge data\n",
    "derived_data = AndroidDerived2021(\"Pixel4_derived.csv\")"
   ]
  },
  {
   "cell_type": "markdown",
   "id": "00bc1b39",
   "metadata": {},
   "source": [
    "We can verify that the data loaded correctly by printing the shape and rows of the imported data."
   ]
  },
  {
   "cell_type": "code",
   "execution_count": null,
   "id": "407270ad",
   "metadata": {},
   "outputs": [],
   "source": [
    "derived_data.shape"
   ]
  },
  {
   "cell_type": "code",
   "execution_count": null,
   "id": "2ac2fc75",
   "metadata": {},
   "outputs": [],
   "source": [
    "derived_data.rows"
   ]
  },
  {
   "cell_type": "markdown",
   "id": "602a7f1d",
   "metadata": {},
   "source": [
    "# 2021 Google Android Ground Truth\n",
    "We can similarly load in the ground truth data from the same 2021 Google Smartphone Decimeter Challenge."
   ]
  },
  {
   "cell_type": "code",
   "execution_count": null,
   "id": "785f088b",
   "metadata": {},
   "outputs": [],
   "source": [
    "from gnss_lib_py.parsers.android import AndroidGroundTruth2021"
   ]
  },
  {
   "cell_type": "code",
   "execution_count": null,
   "id": "8721297a",
   "metadata": {},
   "outputs": [],
   "source": [
    "# download Android data file\n",
    "!wget https://raw.githubusercontent.com/Stanford-NavLab/gnss_lib_py/main/data/unit_test/android_2021/Pixel4_ground_truth.csv --quiet -O \"Pixel4_ground_truth.csv\"\n",
    "# load Android Google Challenge ground truth data\n",
    "gt_data = AndroidGroundTruth2021(\"Pixel4_ground_truth.csv\")"
   ]
  },
  {
   "cell_type": "code",
   "execution_count": null,
   "id": "35cba5a4",
   "metadata": {},
   "outputs": [],
   "source": [
    "gt_data.shape"
   ]
  },
  {
   "cell_type": "code",
   "execution_count": null,
   "id": "a1b0e8b6",
   "metadata": {
    "scrolled": false
   },
   "outputs": [],
   "source": [
    "gt_data.rows"
   ]
  },
  {
   "cell_type": "markdown",
   "id": "cf51b89e",
   "metadata": {},
   "source": [
    "# Precise Ephemerides Processing"
   ]
  },
  {
   "cell_type": "markdown",
   "id": "3c5de62f",
   "metadata": {},
   "source": [
    "The data required to calculate with precise ephemerides uses .sp3 and .clk files, which can be downloaded from [CDDIS](https://cddis.nasa.gov/Data_and_Derived_Products/GNSS/gnss_mgex.html) or [CORS](https://geodesy.noaa.gov/UFCORS/).\n",
    "\n",
    "The .sp3 files provide post-processed, accurate, and precise information regarding 3-D satellite position in the Earth-Centered Earth-Fixed (ECEF) frame at intervals of 15mins each.  \n",
    "\n",
    "Similarly, the .clk files provide post-processed, accurate and precise information on satellite clock errors at intervals of 30secs each.  \n",
    "\n",
    "These .sp3 and .clk files are available for any GNSS constellation, and hence, provide a common processing platform for applications that involve multi-GNSS satellite signals (without requiring to parse the broadcast ephemeris from each constellation separately one at a time). Also, unlike broadcast ephemeris that can suffer from signal-in-space anomalies, the .sp3 and .clk files are guaranteed to provide accurate satellite information. However, note that, these files are only available in a post-processed manner, and not in real-time"
   ]
  },
  {
   "cell_type": "markdown",
   "id": "67fc4f2e",
   "metadata": {},
   "source": [
    "We show how to analyze this precise ephemerides functionality for the Android derived dataset in the following cells, \n",
    "\n",
    "1. Load the derived data from AndroidDerived"
   ]
  },
  {
   "cell_type": "code",
   "execution_count": null,
   "id": "364e7fb3",
   "metadata": {},
   "outputs": [],
   "source": [
    "from gnss_lib_py.parsers.precise_ephemerides import multi_gnss_from_precise_eph\n",
    "import numpy as np\n",
    "\n",
    "# load Android Google Challenge data\n",
    "!wget https://raw.githubusercontent.com/Stanford-NavLab/gnss_lib_py/main/data/unit_test/android_2021/Pixel4_derived_clkdiscnt.csv --quiet -O \"Pixel4_derived_clkdiscnt.csv\"\n",
    "derived_data = AndroidDerived2021(\"Pixel4_derived_clkdiscnt.csv\", remove_timing_outliers=False)"
   ]
  },
  {
   "cell_type": "markdown",
   "id": "4e4ee7c8",
   "metadata": {},
   "source": [
    "2. Specify the paths to the .sp3 and .clk files, as well as the desired constellations from which one intends to extract satellite information"
   ]
  },
  {
   "cell_type": "code",
   "execution_count": null,
   "id": "e62ed8ee",
   "metadata": {},
   "outputs": [],
   "source": [
    "# download .sp3 data file\n",
    "!wget https://raw.githubusercontent.com/Stanford-NavLab/gnss_lib_py/main/data/unit_test/precise_ephemeris/grg21553_short.sp3 --quiet -O \"grg21553_short.sp3\"\n",
    "# Specify .sp3 file path to extract precise ephemerides\n",
    "sp3_path = \"grg21553_short.sp3\"\n",
    "\n",
    "# download .clk data file\n",
    "!wget https://raw.githubusercontent.com/Stanford-NavLab/gnss_lib_py/main/data/unit_test/precise_ephemeris/grg21553_short.clk --quiet -O \"grg21553_short.clk\"\n",
    "# Specify .clk file path to extract precise ephemerides\n",
    "clk_path = \"grg21553_short.clk\"\n",
    "\n",
    "# Specify the GNSS constellations for which you want to extract precise ephemeris\n",
    "gnss_constellations = {'gps', 'glonass'}"
   ]
  },
  {
   "cell_type": "markdown",
   "id": "2567ff0f",
   "metadata": {},
   "source": [
    "3. Remove the rows in NavData class that refer to satellite information (3-D satellite position, 3-D satellite velocity, clock bias and clock drift), \n",
    "\n",
    "    i.e., `SV_KEYS =['x_sv_m', 'y_sv_m', 'z_sv_m', 'vx_sv_mps','vy_sv_mps','vz_sv_mps', 'b_sv_m', 'b_dot_sv_mps']`"
   ]
  },
  {
   "cell_type": "code",
   "execution_count": null,
   "id": "3761b169",
   "metadata": {},
   "outputs": [],
   "source": [
    "# Define the keys relevant for satellite information, and remove the data within these fields\n",
    "SV_KEYS = ['x_sv_m', 'y_sv_m', 'z_sv_m', \\\n",
    "           'vx_sv_mps','vy_sv_mps','vz_sv_mps', \\\n",
    "           'b_sv_m', 'b_dot_sv_mps']\n",
    "\n",
    "for sv in SV_KEYS:\n",
    "    derived_data[sv] = 0"
   ]
  },
  {
   "cell_type": "markdown",
   "id": "458b0a46",
   "metadata": {},
   "source": [
    "4. Populate the columns of SV_KEYS with information extracted via precise ephemerides"
   ]
  },
  {
   "cell_type": "code",
   "execution_count": null,
   "id": "f4e3f349",
   "metadata": {},
   "outputs": [],
   "source": [
    "# Update derived_data class with satellite information computed via precise ephemerides\n",
    "derived_multi_gnss = multi_gnss_from_precise_eph(derived_data, sp3_path, \\\n",
    "                                                         clk_path, gnss_constellations, verbose = False)"
   ]
  },
  {
   "cell_type": "code",
   "execution_count": null,
   "id": "10563cec",
   "metadata": {},
   "outputs": [],
   "source": [
    "# Check that all the desired fields related to satellite information have useful\n",
    "# information, and norm of computed satellite position matches the altitude of GNSS constellation\n",
    "sat_alt = np.linalg.norm(np.transpose([derived_multi_gnss[SV_KEYS[0]][0:2],\n",
    "                                        derived_multi_gnss[SV_KEYS[1]][0:2], \n",
    "                                        derived_multi_gnss[SV_KEYS[2]][0:2]]), axis=1)\n",
    "print('Distance of two satellites from the center of the Earth (expected around 26000000 m):', derived_multi_gnss[\"gnss_id\"][0:2], sat_alt)\n",
    "print(\"Extracted values for same satellites: \")\n",
    "for sv in SV_KEYS:\n",
    "    print(sv, ':', derived_multi_gnss[sv][0:2])"
   ]
  },
  {
   "cell_type": "markdown",
   "id": "eb016e74",
   "metadata": {},
   "source": [
    "# How to Create a New NavData Class"
   ]
  },
  {
   "cell_type": "markdown",
   "id": "28dad153",
   "metadata": {},
   "source": [
    "The modular and versatile functionality of this gnss_lib_py repository is enabled by loading all data types into a custom Python NavData class. If you are using a type of data or dataset that is not yet supported, you will need to create a new child class of the NavData Python class. This tutorial will guide you on how to set up your new Python child class. Once complete, please feel free to submit a pull request to our GitHub repository so other users can  make use of the added functionality."
   ]
  },
  {
   "cell_type": "markdown",
   "id": "69598dcc",
   "metadata": {},
   "source": [
    "For this example, say that we have a new type of data called MyReceiver that is a csv file with columns of a timestamp, satellite identifier, and pseudorange. The contents of a sample `myreceiver.csv` is the following:\n",
    "\n",
    "| myTimestamp | mySatId | myPseudorange |\n",
    "| ----------- | ------- | ------------- |\n",
    "| 10          | 10      | 270000001     |\n",
    "| 10          | 14      | 270000007     |\n",
    "| 10          | 7       | 270000004     |\n",
    "| 10          | 3       | 270000005     |\n",
    "| 11          | 10      | 270000002     |\n",
    "| 11          | 14      | 270000008     |\n",
    "| 11          | 7       | 270000003     |\n",
    "| 11          | 3       | 270000004     |"
   ]
  },
  {
   "cell_type": "markdown",
   "id": "fedf66f3",
   "metadata": {},
   "source": [
    "The first step is importing the base `NavData` class and creating a new class type that inherits from `NavData`"
   ]
  },
  {
   "cell_type": "markdown",
   "id": "20c325d6",
   "metadata": {},
   "source": [
    "```python\n",
    "class MyReceiver(NavData):\n",
    "    \"\"\"Class handling measurements from MyReceiver.\n",
    "\n",
    "    Inherits from NavData().\n",
    "    \"\"\"\n",
    "```"
   ]
  },
  {
   "cell_type": "markdown",
   "id": "c60a6fe4",
   "metadata": {},
   "source": [
    "The `__init__` function should have a call to the parent `NavData` `__init__` function. Based on your data input, you should call the corresponding initializer.\n",
    "\n",
    "For csv files, call: `super().__init__(csv_path=input_path)`  \n",
    "For pandas DataFrames, call `super().__init__(pandas_df=input_path)`  \n",
    "For numpy ndarrays, call `super().__init__(numpy_array=input_path)`  \n",
    "\n",
    "In our case, we have a csv file, so our `__init__` function looks like the following:"
   ]
  },
  {
   "cell_type": "markdown",
   "id": "d51dff11",
   "metadata": {},
   "source": [
    "```python\n",
    "def __init__(self, input_path):\n",
    "    \"\"\"MyReceive specific loading and preprocessing\n",
    "\n",
    "    Parameters\n",
    "    ----------\n",
    "    input_path : string\n",
    "        Path to MyReceiver csv file\n",
    "\n",
    "    \"\"\"\n",
    "\n",
    "    # call NavData initialization with csv path\n",
    "    super().__init__(csv_path=input_path)\n",
    "```"
   ]
  },
  {
   "cell_type": "markdown",
   "id": "4d8dc67f",
   "metadata": {},
   "source": [
    "After our data is loaded, we may want to make known changes to our data. We can make those changes by defining a `postprocess` function. NavData's `__init__` function that we call in our initializer already makes a call to the `postprocess` function, so we don't have to repeat that call in `MyReceiver`'s `__init__` function."
   ]
  },
  {
   "cell_type": "markdown",
   "id": "c7d9b213",
   "metadata": {},
   "source": [
    "One thing that we need to do to make use of the common functionality of `gnss_lib_py` is to standardize the names of our variables. See the [Standard Naming Conventions](https://gnss-lib-py.readthedocs.io/en/latest/reference/reference.html#standard-naming-conventions) section in the Reference tab of the documentation for the list of standardized names.\n",
    "\n",
    "In our case, we will convert `mySatId` to `sv_id` and `myPseudorange` to `raw_pr_m`. We make these conversions by simply updating the `_row_map` function."
   ]
  },
  {
   "cell_type": "markdown",
   "id": "bee9b8a1",
   "metadata": {},
   "source": [
    "```python\n",
    "\n",
    "\n",
    "@staticmethod\n",
    "def _row_map():\n",
    "    \"\"\"Map of column names from loaded to gnss_lib_py standard\n",
    "\n",
    "    Returns\n",
    "    -------\n",
    "    row_map : Dict\n",
    "        Dictionary of the form {old_name : new_name}\n",
    "    \"\"\"\n",
    "    row_map = {'mySatId' : 'sv_id',\n",
    "               'myPseudorange' : 'raw_pr_m',\n",
    "               }\n",
    "    return row_map\n",
    "```"
   ]
  },
  {
   "cell_type": "markdown",
   "id": "dbbe8d55",
   "metadata": {},
   "source": [
    "As an additional postprocessing step, we may want to offset our pseudorange due to a known error or create the common timestamp variable `gps_millis` based on our unique timestamp row. Adding the `gps_millis` row enables the use of some of the common algorithms. The [time conversion utilities](https://gnss-lib-py.readthedocs.io/en/latest/tutorials/tutorials_utilities_notebook.html) can be used to create `gps_millis` from the GPS Week & Time of week, GPS milliseconds, or a datetime object."
   ]
  },
  {
   "cell_type": "markdown",
   "id": "97fbeb7b",
   "metadata": {},
   "source": [
    "```python\n",
    "# correct pseudorange\n",
    "self['corr_pr_m'] = self['raw_pr_m'] + 100.\n",
    "\n",
    "# create common timestamp\n",
    "self['gps_millis'] = self['myTimestamp'] + 5629719023\n",
    "```"
   ]
  },
  {
   "cell_type": "markdown",
   "id": "72884667",
   "metadata": {},
   "source": [
    "Putting it all together, we have:"
   ]
  },
  {
   "cell_type": "code",
   "execution_count": null,
   "id": "956af339",
   "metadata": {},
   "outputs": [],
   "source": [
    "from gnss_lib_py.parsers.navdata import NavData\n",
    "\n",
    "class MyReceiver(NavData):\n",
    "    \"\"\"Class handling measurements from MyReceiver.\n",
    "\n",
    "    Inherits from NavData().\n",
    "    \"\"\"\n",
    "    def __init__(self, input_path):\n",
    "        \"\"\"MyReceive specific loading and preprocessing\n",
    "\n",
    "        Parameters\n",
    "        ----------\n",
    "        input_path : string\n",
    "            Path to MyReceiver csv file\n",
    "\n",
    "        \"\"\"\n",
    "        \n",
    "        # call NavData initialization with csv path\n",
    "        super().__init__(csv_path=input_path)\n",
    "        \n",
    "    def postprocess(self):\n",
    "        \"\"\"MyReceiver specific postprocessing\n",
    "\n",
    "        \"\"\"\n",
    "\n",
    "        # correct pseudorange\n",
    "        self['corr_pr_m'] = self['raw_pr_m'] + 100.\n",
    "        \n",
    "        # create common timestamp\n",
    "        self['gps_millis'] = self['myTimestamp'] + 1659075505350\n",
    "        \n",
    "\n",
    "    @staticmethod\n",
    "    def _row_map():\n",
    "        \"\"\"Map of column names from loaded to gnss_lib_py standard\n",
    "\n",
    "        Returns\n",
    "        -------\n",
    "        row_map : Dict\n",
    "            Dictionary of the form {old_name : new_name}\n",
    "        \"\"\"\n",
    "        row_map = {'mySatId' : 'sv_id',\n",
    "                   'myPseudorange' : 'raw_pr_m',\n",
    "                   }\n",
    "        return row_map"
   ]
  },
  {
   "cell_type": "markdown",
   "id": "1ccadb47",
   "metadata": {},
   "source": [
    "We can now create a instance of our new `MyReceiver` class with the path to our csv called `myreceiver.csv`."
   ]
  },
  {
   "cell_type": "code",
   "execution_count": null,
   "id": "b611a39f",
   "metadata": {},
   "outputs": [],
   "source": [
    "# download myreceiver.csv file\n",
    "!wget https://raw.githubusercontent.com/Stanford-NavLab/gnss_lib_py/main/notebooks/tutorials/myreceiver.csv --quiet -O \"myreceiver.csv\"\n",
    "\n",
    "# create instance of MyReceiver\n",
    "my_receiver_data = MyReceiver(\"myreceiver.csv\")"
   ]
  },
  {
   "cell_type": "markdown",
   "id": "52b64751",
   "metadata": {},
   "source": [
    "Let's print out our corrected pseudorange to make sure everything worked correctly."
   ]
  },
  {
   "cell_type": "code",
   "execution_count": null,
   "id": "bae52fb6",
   "metadata": {},
   "outputs": [],
   "source": [
    "my_receiver_data[\"corr_pr_m\"]"
   ]
  },
  {
   "cell_type": "markdown",
   "id": "fd3eea3d",
   "metadata": {},
   "source": [
    "We can now take advantage of all the tools `gnss_lib_py` has to offer!"
   ]
  },
  {
   "cell_type": "code",
   "execution_count": null,
   "id": "bad31b8a",
   "metadata": {},
   "outputs": [],
   "source": [
    "from gnss_lib_py.utils.visualizations import plot_metric\n",
    "fig = plot_metric(my_receiver_data,\"gps_millis\",\"corr_pr_m\",groupby=\"sv_id\")"
   ]
  }
 ],
 "metadata": {
  "kernelspec": {
   "display_name": "Python 3",
   "language": "python",
   "name": "python3"
  },
  "language_info": {
   "codemirror_mode": {
    "name": "ipython",
    "version": 3
   },
   "file_extension": ".py",
   "mimetype": "text/x-python",
   "name": "python",
   "nbconvert_exporter": "python",
   "pygments_lexer": "ipython3",
   "version": "3.8.9"
  },
  "vscode": {
   "interpreter": {
    "hash": "c7717b1dd2ec65abd747d44a25869d062db68d19263f8e701e26dddb0b153342"
   }
  }
 },
 "nbformat": 4,
 "nbformat_minor": 5
}
