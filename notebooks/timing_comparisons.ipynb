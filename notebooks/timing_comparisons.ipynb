{
 "cells": [
  {
   "cell_type": "markdown",
   "id": "965edd03",
   "metadata": {},
   "source": [
    "# Basic Get/Set Time Comparisons"
   ]
  },
  {
   "cell_type": "code",
   "execution_count": null,
   "id": "e5f1b914",
   "metadata": {},
   "outputs": [],
   "source": [
    "import timeit\n",
    "\n",
    "import numpy as np\n",
    "\n",
    "# load Android Google Challenge data\n",
    "!wget https://raw.githubusercontent.com/Stanford-NavLab/gnss_lib_py/main/data/unit_test/android_2021/Pixel4XL_derived.csv --quiet -O \"Pixel4XL_derived.csv\""
   ]
  },
  {
   "cell_type": "code",
   "execution_count": null,
   "id": "6e513772",
   "metadata": {},
   "outputs": [],
   "source": [
    "REPEAT_COUNT = 10\n",
    "ITERATION_COUNT = 1000"
   ]
  },
  {
   "cell_type": "code",
   "execution_count": null,
   "id": "9eb412fb",
   "metadata": {},
   "outputs": [],
   "source": [
    "SETUP_CODE = '''\n",
    "from gnss_lib_py.parsers.android import AndroidDerived2021\n",
    "\n",
    "# load Android Google Challenge data\n",
    "navdata = AndroidDerived2021(\"Pixel4XL_derived.csv\", remove_timing_outliers=False)\n",
    "'''\n",
    "    \n",
    "TEST_CODE = '''\n",
    "navdata[\"corr_pr_m\"] = navdata['raw_pr_m'] \\\n",
    "                     + navdata['b_sv_m'] \\\n",
    "                     - navdata['intersignal_bias_m'] \\\n",
    "                     - navdata['tropo_delay_m'] \\\n",
    "                     - navdata['iono_delay_m']\n",
    "            '''\n",
    "# timeit.repeat statement\n",
    "times = timeit.repeat(setup = SETUP_CODE,\n",
    "                      stmt = TEST_CODE,\n",
    "                      repeat = REPEAT_COUNT,\n",
    "                      number = ITERATION_COUNT)\n",
    "\n",
    "print(f'NavData avg time: {np.round(1E3*np.mean(times)/ITERATION_COUNT,5)} ms')"
   ]
  },
  {
   "cell_type": "code",
   "execution_count": null,
   "id": "f98dbe28",
   "metadata": {},
   "outputs": [],
   "source": [
    "SETUP_CODE = '''\n",
    "import pandas as pd\n",
    "\n",
    "from gnss_lib_py.parsers.android import AndroidDerived2021\n",
    "\n",
    "# load Android Google Challenge data\n",
    "df = pd.read_csv(\"Pixel4XL_derived.csv\")\n",
    "df.rename(columns=AndroidDerived2021._row_map(), inplace=True)\n",
    "'''\n",
    "    \n",
    "TEST_CODE = '''\n",
    "df[\"corr_pr_m\"] = df['raw_pr_m'] \\\n",
    "                + df['b_sv_m'] \\\n",
    "                - df['intersignal_bias_m'] \\\n",
    "                - df['tropo_delay_m'] \\\n",
    "                - df['iono_delay_m']\n",
    "            '''\n",
    "# timeit.repeat statement\n",
    "times = timeit.repeat(setup = SETUP_CODE,\n",
    "                      stmt = TEST_CODE,\n",
    "                      repeat = REPEAT_COUNT,\n",
    "                      number = ITERATION_COUNT)\n",
    "\n",
    "print(f'Pandas avg time: {np.round(1E3*np.mean(times)/ITERATION_COUNT,5)} ms')"
   ]
  },
  {
   "cell_type": "code",
   "execution_count": null,
   "id": "d77afec7",
   "metadata": {},
   "outputs": [],
   "source": [
    "SETUP_CODE = '''\n",
    "import pandas as pd\n",
    "\n",
    "from gnss_lib_py.parsers.android import AndroidDerived2021\n",
    "\n",
    "# load Android Google Challenge data\n",
    "df = pd.read_csv(\"Pixel4XL_derived.csv\")\n",
    "df.rename(columns=AndroidDerived2021._row_map(), inplace=True)\n",
    "\n",
    "raw_pr_m = df['raw_pr_m'].to_numpy()\n",
    "b_sv_m = df['b_sv_m'].to_numpy()\n",
    "intersignal_bias_m = df['intersignal_bias_m'].to_numpy()\n",
    "tropo_delay_m = df['tropo_delay_m'].to_numpy()\n",
    "iono_delay_m = df['iono_delay_m'].to_numpy()\n",
    "\n",
    "'''\n",
    "    \n",
    "TEST_CODE = '''\n",
    "corr_pr_m = raw_pr_m \\\n",
    "          + b_sv_m \\\n",
    "          - intersignal_bias_m \\\n",
    "          - tropo_delay_m \\\n",
    "          - iono_delay_m\n",
    "            '''\n",
    "# timeit.repeat statement\n",
    "times = timeit.repeat(setup = SETUP_CODE,\n",
    "                      stmt = TEST_CODE,\n",
    "                      repeat = REPEAT_COUNT,\n",
    "                      number = ITERATION_COUNT)\n",
    "\n",
    "print(f'Numpy avg time: {np.round(1E3*np.mean(times)/ITERATION_COUNT,5)} ms')"
   ]
  }
 ],
 "metadata": {
  "kernelspec": {
   "display_name": "Python 3",
   "language": "python",
   "name": "python3"
  },
  "language_info": {
   "codemirror_mode": {
    "name": "ipython",
    "version": 3
   },
   "file_extension": ".py",
   "mimetype": "text/x-python",
   "name": "python",
   "nbconvert_exporter": "python",
   "pygments_lexer": "ipython3",
   "version": "3.8.9"
  }
 },
 "nbformat": 4,
 "nbformat_minor": 5
}
